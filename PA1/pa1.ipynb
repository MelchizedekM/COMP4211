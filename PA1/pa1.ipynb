{
 "cells": [
  {
   "cell_type": "markdown",
   "metadata": {},
   "source": [
    "## Load the necessary libariary and data"
   ]
  },
  {
   "cell_type": "code",
   "execution_count": 1509,
   "metadata": {},
   "outputs": [],
   "source": [
    "import numpy as np\n",
    "import matplotlib.pyplot as plt\n",
    "import os\n",
    "import warnings\n",
    "import scipy.stats as stats\n",
    "import seaborn as sns\n",
    "import pickle\n",
    "import time\n",
    "import random\n",
    "import matplotlib.pyplot as plt\n",
    "\n",
    "\n",
    "try: \n",
    "    import cudf as pd\n",
    "except:\n",
    "    import pandas as pd\n",
    "\n",
    "# if cuda is available, use cudf instead of pandas\n",
    "from IPython.display import Image\n",
    "\n",
    "try:\n",
    "    import cuml\n",
    "    from cuml.linear_model import LinearRegression,SGDClassifier\n",
    "    from cuml.decomposition import PCA\n",
    "    from cuml.preprocessing import StandardScaler, MinMaxScaler, RobustScaler, OneHotEncoder, OrdinalEncoder\n",
    "    from cuml.metrics.regression import r2_score\n",
    "    from cuml.model_selection import train_test_split\n",
    "    from cuml.impute import SimpleImputer\n",
    "    from cuml.feature_selection import VarianceThreshold, SelectKBest\n",
    "\n",
    "except:\n",
    "    from sklearn.feature_selection import VarianceThreshold, SelectKBest\n",
    "    from sklearn.impute import SimpleImputer\n",
    "    from sklearn.decomposition import PCA\n",
    "    from sklearn.preprocessing import StandardScaler, MinMaxScaler, RobustScaler, OneHotEncoder, OrdinalEncoder\n",
    "    from sklearn.linear_model import LinearRegression, LogisticRegression, SGDClassifier\n",
    "    from sklearn.model_selection import train_test_split\n",
    "    from sklearn.neural_network import MLPRegressor\n",
    "    from sklearn.metrics import r2_score, f1_score\n",
    "    from sklearn.metrics import roc_curve, auc\n",
    "\n",
    "\n",
    "warnings.filterwarnings('ignore', category=FutureWarning)\n",
    "\n",
    "train = pd.read_csv('./data/train.csv')\n",
    "train_labels = train[['regression target', 'classification target']]\n",
    "train = train.drop(['regression target', 'classification target'], axis=1)\n",
    "test = pd.read_csv('./data/test.csv')"
   ]
  },
  {
   "cell_type": "markdown",
   "metadata": {},
   "source": [
    "#### Tuning Variables:"
   ]
  },
  {
   "cell_type": "code",
   "execution_count": 1510,
   "metadata": {},
   "outputs": [],
   "source": [
    "# fixed variables\n",
    "random_seed = 4211\n",
    "\n",
    "# Feature Engineering\n",
    "n_index = 0\n",
    "c_index = 0\n",
    "f_index = 0\n",
    "fe_index = 0\n",
    "n_pca = 15\n",
    "\n",
    "# Model selection and validation\n",
    "running_index = 9 # -1 for tuning and testing, please RESET to -1 after running\n",
    "\n",
    "## Feedforward Neural Network\n",
    "repeats_index = 3 \n",
    "\n",
    "## Logistic Regression\n",
    "lr_para = {\n",
    "    'learning_rate':'constant', \n",
    "    'eta0':0.01, \n",
    "    'max_iter':1000, \n",
    "    'tol':1e-3\n",
    "    }"
   ]
  },
  {
   "cell_type": "code",
   "execution_count": 1511,
   "metadata": {},
   "outputs": [],
   "source": [
    "### Different models\n",
    "if running_index == -1:\n",
    "    n_index = 0\n",
    "    c_index = 2\n",
    "    f_index = 0\n",
    "    fe_index = 1\n",
    "    n_pca = 5\n",
    "\n",
    "if running_index in [0,1,2,3,4,5,6,7,8,9]:\n",
    "    n_index = 1\n",
    "    c_index = 2\n",
    "    fe_index = 1"
   ]
  },
  {
   "cell_type": "markdown",
   "metadata": {},
   "source": [
    "## Part 2:  Data Preprocessing Techniques"
   ]
  },
  {
   "cell_type": "markdown",
   "metadata": {},
   "source": [
    "### [Q7] Handling Missing Values: "
   ]
  },
  {
   "cell_type": "code",
   "execution_count": 1512,
   "metadata": {},
   "outputs": [],
   "source": [
    "imputer = SimpleImputer(strategy='mean')\n",
    "\n",
    "numeric_data = train.select_dtypes(include=[np.number])\n",
    "numeric_data_imputed = imputer.fit_transform(numeric_data)\n",
    "\n",
    "train[numeric_data.columns] = numeric_data_imputed"
   ]
  },
  {
   "cell_type": "markdown",
   "metadata": {},
   "source": [
    "### [Q8] Normalization and Standardization:"
   ]
  },
  {
   "cell_type": "code",
   "execution_count": 1513,
   "metadata": {},
   "outputs": [
    {
     "name": "stdout",
     "output_type": "stream",
     "text": [
      "Original: \n",
      "0    65.00\n",
      "1    65.00\n",
      "2    59.50\n",
      "3    66.55\n",
      "4    71.00\n",
      "5    70.00\n",
      "6    57.50\n",
      "7    65.50\n",
      "8    70.00\n",
      "9    80.00\n",
      "Name: C6, dtype: float64\n",
      "Standard Scaler: \n",
      "0   -0.200135\n",
      "1   -0.200135\n",
      "2   -1.031074\n",
      "3    0.034039\n",
      "4    0.706344\n",
      "5    0.555264\n",
      "6   -1.333234\n",
      "7   -0.124595\n",
      "8    0.555264\n",
      "9    2.066063\n",
      "Name: C6, dtype: float64\n",
      "MinMax Scaler: \n",
      "0    0.368421\n",
      "1    0.368421\n",
      "2    0.252632\n",
      "3    0.401053\n",
      "4    0.494737\n",
      "5    0.473684\n",
      "6    0.210526\n",
      "7    0.378947\n",
      "8    0.473684\n",
      "9    0.684211\n",
      "Name: C6, dtype: float64\n",
      "Robust Scaler: \n",
      "0   -0.206667\n",
      "1   -0.206667\n",
      "2   -0.940000\n",
      "3    0.000000\n",
      "4    0.593333\n",
      "5    0.460000\n",
      "6   -1.206667\n",
      "7   -0.140000\n",
      "8    0.460000\n",
      "9    1.793333\n",
      "Name: C6, dtype: float64\n"
     ]
    }
   ],
   "source": [
    "scaler_SS = StandardScaler()\n",
    "scaler_MM = MinMaxScaler()\n",
    "scaler_RS = RobustScaler()\n",
    "\n",
    "train_SS = train.copy()\n",
    "train_MM = train.copy()\n",
    "train_RS = train.copy()\n",
    "\n",
    "train_SS[numeric_data.columns] = scaler_SS.fit_transform(numeric_data_imputed)\n",
    "train_MM[numeric_data.columns] = scaler_MM.fit_transform(numeric_data_imputed)\n",
    "train_RS[numeric_data.columns] = scaler_RS.fit_transform(numeric_data_imputed)\n",
    "\n",
    "first_numeric_column_index = 0\n",
    "for i in range(len(train.columns)):\n",
    "    column_name = train.columns[i]\n",
    "    if train[column_name].dtype != 'object':\n",
    "        first_numeric_column_index = i\n",
    "        break\n",
    "\n",
    "print('Original: ')\n",
    "print(train.iloc[:, first_numeric_column_index].head(10))\n",
    "print('Standard Scaler: ')\n",
    "print(train_SS.iloc[:, first_numeric_column_index].head(10))\n",
    "print('MinMax Scaler: ')\n",
    "print(train_MM.iloc[:, first_numeric_column_index].head(10))\n",
    "print('Robust Scaler: ')\n",
    "print(train_RS.iloc[:, first_numeric_column_index].head(10))"
   ]
  },
  {
   "cell_type": "markdown",
   "metadata": {},
   "source": [
    "### [Q9] Encoding Categorical Variables:"
   ]
  },
  {
   "cell_type": "code",
   "execution_count": 1514,
   "metadata": {},
   "outputs": [
    {
     "name": "stdout",
     "output_type": "stream",
     "text": [
      "Original: \n",
      "0    divorced\n",
      "1      single\n",
      "2      single\n",
      "3     married\n",
      "4      single\n",
      "5      single\n",
      "6      single\n",
      "7      single\n",
      "8      single\n",
      "9      single\n",
      "Name: C0, dtype: object\n",
      "OneHotEncoder: \n",
      "   C0_divorced  C0_facto union  C0_legally separated  C0_married  C0_single  \\\n",
      "0          1.0             0.0                   0.0         0.0        0.0   \n",
      "1          0.0             0.0                   0.0         0.0        1.0   \n",
      "2          0.0             0.0                   0.0         0.0        1.0   \n",
      "3          0.0             0.0                   0.0         1.0        0.0   \n",
      "4          0.0             0.0                   0.0         0.0        1.0   \n",
      "5          0.0             0.0                   0.0         0.0        1.0   \n",
      "6          0.0             0.0                   0.0         0.0        1.0   \n",
      "7          0.0             0.0                   0.0         0.0        1.0   \n",
      "8          0.0             0.0                   0.0         0.0        1.0   \n",
      "9          0.0             0.0                   0.0         0.0        1.0   \n",
      "\n",
      "   C0_widower  C0_nan  \n",
      "0         0.0     0.0  \n",
      "1         0.0     0.0  \n",
      "2         0.0     0.0  \n",
      "3         0.0     0.0  \n",
      "4         0.0     0.0  \n",
      "5         0.0     0.0  \n",
      "6         0.0     0.0  \n",
      "7         0.0     0.0  \n",
      "8         0.0     0.0  \n",
      "9         0.0     0.0  \n",
      "OrdinalEncoder: \n",
      "0    0.0\n",
      "1    4.0\n",
      "2    4.0\n",
      "3    3.0\n",
      "4    4.0\n",
      "5    4.0\n",
      "6    4.0\n",
      "7    4.0\n",
      "8    4.0\n",
      "9    4.0\n",
      "Name: C0, dtype: float64\n"
     ]
    }
   ],
   "source": [
    "# using OneHotEncoder and OrdinalEncoder to encode the categorical data\n",
    "\n",
    "encoder_OHE = OneHotEncoder(sparse=False, handle_unknown='ignore')\n",
    "encoder_OE = OrdinalEncoder()\n",
    "\n",
    "categorical_data = train[train.columns.difference(numeric_data.columns)]\n",
    "\n",
    "categorical_data_encoded_OHE = pd.DataFrame()\n",
    "\n",
    "for column in categorical_data.columns:\n",
    "    encoded_column = encoder_OHE.fit_transform(categorical_data[[column]])\n",
    "    column_names = [f\"{column}_{category}\" for category in encoder_OHE.categories_[0]]\n",
    "    encoded_column = pd.DataFrame(encoded_column, columns=column_names)\n",
    "    categorical_data_encoded_OHE = pd.concat([categorical_data_encoded_OHE, encoded_column], axis=1)\n",
    "    \n",
    "categorical_data_encoded_OE = pd.DataFrame(encoder_OE.fit_transform(categorical_data), columns=categorical_data.columns)\n",
    "\n",
    "print('Original: ')\n",
    "print(categorical_data.iloc[:10, 0])\n",
    "\n",
    "print('OneHotEncoder: ')\n",
    "print(categorical_data_encoded_OHE.iloc[:10, 0:7])\n",
    "\n",
    "print('OrdinalEncoder: ')\n",
    "print(categorical_data_encoded_OE.iloc[:10, 0])"
   ]
  },
  {
   "cell_type": "markdown",
   "metadata": {},
   "source": [
    "### [Q10] Feature Selection:"
   ]
  },
  {
   "cell_type": "code",
   "execution_count": 1515,
   "metadata": {},
   "outputs": [],
   "source": [
    "train_final = pd.DataFrame()\n",
    "\n",
    "if n_index == 0:\n",
    "    train_n = train.select_dtypes(include=[np.number])\n",
    "elif n_index == 1:\n",
    "    train_n = train_SS.select_dtypes(include=[np.number])\n",
    "elif n_index == 2:\n",
    "    train_n = train_MM.select_dtypes(include=[np.number])\n",
    "else:\n",
    "    train_n = train_RS.select_dtypes(include=[np.number])\n",
    "\n",
    "if c_index == 0:\n",
    "    train_c = categorical_data\n",
    "elif c_index == 1:\n",
    "    train_c = categorical_data_encoded_OHE\n",
    "else:\n",
    "    train_c = categorical_data_encoded_OE\n",
    "\n",
    "train_final = pd.concat([train_n, train_c], axis=1)\n",
    "\n",
    "train_c_sp = categorical_data_encoded_OE\n",
    "\n",
    "# print(train_final.head(10))\n",
    "\n",
    "# using VarianceThreshold or SelectKBest to select the features\n",
    "selector_VT = VarianceThreshold(threshold=0.1)\n",
    "selector_SKB = SelectKBest(k=15)\n",
    "\n",
    "if f_index == 0:\n",
    "    train_f = train_final\n",
    "elif f_index == 1:\n",
    "    train_f = selector_VT.fit_transform(train_final)\n",
    "elif f_index == 2:\n",
    "    train_f = imputer.fit_transform(train_final)\n",
    "    train_f = selector_SKB.fit_transform(train_f, train_labels['regression target']) \n",
    "else:\n",
    "    train_f = imputer.fit_transform(train_final)\n",
    "    train_f = selector_SKB.fit_transform(train_f, train_labels['classification target'])\n",
    "\n"
   ]
  },
  {
   "cell_type": "markdown",
   "metadata": {},
   "source": [
    "### [Q11] Feature Engineering: "
   ]
  },
  {
   "cell_type": "code",
   "execution_count": 1516,
   "metadata": {},
   "outputs": [
    {
     "data": {
      "image/png": "[encoded data removed]",
      "text/plain": [
       "<Figure size 800x500 with 1 Axes>"
      ]
     },
     "metadata": {},
     "output_type": "display_data"
    }
   ],
   "source": [
    "# using PCA, UMAP to reduce the dimensionality of the data\n",
    "pca = PCA(n_components=n_pca)\n",
    "\n",
    "\n",
    "if fe_index == 0:\n",
    "    train_fe = train_f\n",
    "elif fe_index == 1:\n",
    "    train_fe = imputer.fit_transform(train_f)\n",
    "    train_fe = pca.fit_transform(train_fe)\n",
    "    plt.figure(figsize=(8, 5))\n",
    "    plt.plot(np.cumsum(pca.explained_variance_ratio_))\n",
    "    plt.xlabel('Number of components')\n",
    "    plt.ylabel('Cumulative explained variance')\n",
    "    plt.title('Explained variance ratio as a function of the number of components')\n",
    "    plt.grid(True)\n",
    "    if not os.path.exists('./pic'):\n",
    "        os.makedirs('./pic')\n",
    "    plt.savefig('./pic/PCA.png')\n",
    "    plt.show()\n",
    "else:\n",
    "    train_fe = umap.fit_transform(train_f)"
   ]
  },
  {
   "cell_type": "markdown",
   "metadata": {},
   "source": [
    "## Part 3: Regression"
   ]
  },
  {
   "cell_type": "code",
   "execution_count": 1517,
   "metadata": {},
   "outputs": [],
   "source": [
    "np.random.seed(4211)\n",
    "X_train, X_test, y_train, y_test = train_test_split(train_fe, train_labels['regression target'], test_size=0.2, random_state=4211)"
   ]
  },
  {
   "cell_type": "markdown",
   "metadata": {},
   "source": [
    "### Linear Regerssion"
   ]
  },
  {
   "cell_type": "markdown",
   "metadata": {},
   "source": [
    "##### Training Function for All Linear Model:"
   ]
  },
  {
   "cell_type": "code",
   "execution_count": 1518,
   "metadata": {},
   "outputs": [],
   "source": [
    "def train_model(X_train, y_train, X_test, y_test, n, regressor=LinearRegression()):\n",
    "    index_using = [0,1,9,5,3,4]\n",
    "    if n <= 5 and n >= 0:\n",
    "        index = index_using[n]\n",
    "        x = X_train[:,index].reshape(-1, 1)\n",
    "        x_v = X_test[:,index].reshape(-1, 1)\n",
    "    elif n == 6:\n",
    "        index = index_using\n",
    "        x = X_train[:,index]\n",
    "        x_v = X_test[:,index]\n",
    "    else:\n",
    "        print(\"Invalid index\")\n",
    "        return None\n",
    "    \n",
    "    y = y_train.values \n",
    "\n",
    "    \n",
    "    lm = regressor.fit(x, y)\n",
    "\n",
    "    print(\"Coefficient:\", lm.coef_)\n",
    "    print(\"Intercept:\", lm.intercept_)\n",
    "    print(\"R^2 score:\", lm.score(x, y))\n",
    "\n",
    "    # print the validation r2 score\n",
    "    y_pred = lm.predict(x_v)\n",
    "    y_v = y_test.values\n",
    "    print(\"Validation R^2 score:\", r2_score(y_v, y_pred))\n",
    "\n",
    "    if not os.path.exists('./result/regression'):\n",
    "        os.makedirs('./result/regression')\n",
    "        \n",
    "    with open(f'./result/regression/model{n+1}.txt', 'w') as f:\n",
    "        f.write(\"Coefficient: \" + str(lm.coef_) + '\\n')\n",
    "        f.write(\"Intercept: \" + str(lm.intercept_) + '\\n')\n",
    "        f.write(\"R^2 score: \" + str(lm.score(x, y)) + '\\n')\n",
    "        f.write(\"Validation R^2 score: \" + str(r2_score(y_v, y_pred)) + '\\n')\n",
    "\n",
    "    with open(f'./result/regression/model{n+1}.pkl', 'wb') as f:\n",
    "        pickle.dump(lm, f)\n",
    "\n",
    "    return lm\n",
    "\n",
    "def mse_pred(i):\n",
    "    if i == 0:\n",
    "        with open('./result/regression/model1.pkl', 'rb') as f:\n",
    "            lm = pickle.load(f)\n",
    "            y_pred = lm.predict(X_test[:,0].reshape(-1, 1))\n",
    "    elif i == 1:\n",
    "        with open('./result/regression/model2.pkl', 'rb') as f:\n",
    "            lm = pickle.load(f)\n",
    "            y_pred = lm.predict(X_test[:,1].reshape(-1, 1))\n",
    "    elif i == 2:\n",
    "        with open('./result/regression/model3.pkl', 'rb') as f:\n",
    "            lm = pickle.load(f)\n",
    "            y_pred = lm.predict(X_test[:,9].reshape(-1, 1))\n",
    "    elif i == 3:\n",
    "        with open('./result/regression/model4.pkl', 'rb') as f:\n",
    "            lm = pickle.load(f)\n",
    "            y_pred = lm.predict(X_test[:,5].reshape(-1, 1))\n",
    "    elif i == 4:\n",
    "        with open('./result/regression/model5.pkl', 'rb') as f:\n",
    "            lm = pickle.load(f)\n",
    "            y_pred = lm.predict(X_test[:,3].reshape(-1, 1))\n",
    "    elif i == 5:\n",
    "        with open('./result/regression/model6.pkl', 'rb') as f:\n",
    "            lm = pickle.load(f)\n",
    "            y_pred = lm.predict(X_test[:,4].reshape(-1, 1))\n",
    "    elif i == 6:\n",
    "        with open('./result/regression/model7.pkl', 'rb') as f:\n",
    "            lm = pickle.load(f)\n",
    "            y_pred = lm.predict(X_test[:,[0,1,3,4,5,9]])\n",
    "    if i <= 6 and i >= 0:\n",
    "        mse = np.mean((y_pred - y_test.values) ** 2)\n",
    "        print(\"MSE for model\", i+1, \":\", mse)\n",
    "        with open('./result/regression/mse.txt', 'a') as f:\n",
    "            f.write(\"MSE for model \" + str(i+1) + \": \" + str(mse) + \"\\n\")\n",
    "    \n"
   ]
  },
  {
   "cell_type": "markdown",
   "metadata": {},
   "source": [
    "#### Step 1:"
   ]
  },
  {
   "cell_type": "markdown",
   "metadata": {},
   "source": [
    "##### First model:"
   ]
  },
  {
   "cell_type": "code",
   "execution_count": 1519,
   "metadata": {},
   "outputs": [
    {
     "name": "stdout",
     "output_type": "stream",
     "text": [
      "Coefficient: [0.00052226]\n",
      "Intercept: 0.6338738086954843\n",
      "R^2 score: 0.0018695316290635589\n",
      "Validation R^2 score: 0.00494776279640774\n",
      "\n"
     ]
    }
   ],
   "source": [
    "# use the PCA10 of SS+OE data to regress the regression target linearly\n",
    "if running_index == 0:\n",
    "    train_model(X_train, y_train, X_test, y_test, running_index)\n",
    "    running_index = running_index + 1\n",
    "else:\n",
    "    # print the result from the saved model\n",
    "    with open('./result/regression/model1.txt', 'r') as f:\n",
    "        print(f.read())"
   ]
  },
  {
   "cell_type": "markdown",
   "metadata": {},
   "source": [
    "##### Second model:"
   ]
  },
  {
   "cell_type": "code",
   "execution_count": 1520,
   "metadata": {},
   "outputs": [
    {
     "name": "stdout",
     "output_type": "stream",
     "text": [
      "Coefficient: [0.00040033]\n",
      "Intercept: 0.6339274687727884\n",
      "R^2 score: 0.0007037263251143955\n",
      "Validation R^2 score: 0.005404304670441729\n",
      "\n"
     ]
    }
   ],
   "source": [
    "# use the PCA2 of SS+OE data to regress the regression target linearly\n",
    "if running_index == 1:\n",
    "    train_model(X_train, y_train, X_test, y_test, running_index)\n",
    "    running_index = running_index + 1\n",
    "else:\n",
    "    # print the result from the saved model\n",
    "    with open('./result/regression/model2.txt', 'r') as f:\n",
    "        print(f.read())\n",
    "        "
   ]
  },
  {
   "cell_type": "markdown",
   "metadata": {},
   "source": [
    "##### Third model:"
   ]
  },
  {
   "cell_type": "code",
   "execution_count": 1521,
   "metadata": {},
   "outputs": [
    {
     "name": "stdout",
     "output_type": "stream",
     "text": [
      "Coefficient: [0.03836043]\n",
      "Intercept: 0.6341330491162769\n",
      "R^2 score: 0.2805220334276459\n",
      "Validation R^2 score: 0.32358168954322797\n",
      "\n"
     ]
    }
   ],
   "source": [
    "# use the PCA10 of SS+OE data to regress the regression target linearly\n",
    "if running_index == 2:\n",
    "    train_model(X_train, y_train, X_test, y_test, running_index)\n",
    "    running_index = running_index + 1\n",
    "else:\n",
    "    # print the result from the saved model\n",
    "    with open('./result/regression/model3.txt', 'r') as f:\n",
    "        print(f.read())"
   ]
  },
  {
   "cell_type": "markdown",
   "metadata": {},
   "source": [
    "##### Forth model:"
   ]
  },
  {
   "cell_type": "code",
   "execution_count": 1522,
   "metadata": {},
   "outputs": [
    {
     "name": "stdout",
     "output_type": "stream",
     "text": [
      "Coefficient: [0.00285896]\n",
      "Intercept: 0.633911316577684\n",
      "R^2 score: 0.0031871125899599617\n",
      "Validation R^2 score: 0.006365959135546939\n",
      "\n"
     ]
    }
   ],
   "source": [
    "# use the PCA6 of SS+OE data to regress the regression target linearly\n",
    "if running_index == 3:\n",
    "    train_model(X_train, y_train, X_test, y_test, running_index)\n",
    "    running_index = running_index + 1\n",
    "else:\n",
    "    # print the result from the saved model\n",
    "    with open('./result/regression/model4.txt', 'r') as f:\n",
    "        print(f.read())"
   ]
  },
  {
   "cell_type": "markdown",
   "metadata": {},
   "source": [
    "##### Fifth model:"
   ]
  },
  {
   "cell_type": "code",
   "execution_count": 1523,
   "metadata": {},
   "outputs": [
    {
     "name": "stdout",
     "output_type": "stream",
     "text": [
      "Coefficient: [-0.00291074]\n",
      "Intercept: 0.6339912370415771\n",
      "R^2 score: 0.00938766462088203\n",
      "Validation R^2 score: 0.005735289304080737\n",
      "\n"
     ]
    }
   ],
   "source": [
    "# use the PCA4 of SS+OE data to regress the regression target linearly\n",
    "if running_index == 4:\n",
    "    train_model(X_train, y_train, X_test, y_test, running_index)\n",
    "    running_index = running_index + 1\n",
    "else:\n",
    "    # print the result from the saved model\n",
    "    with open('./result/regression/model5.txt', 'r') as f:\n",
    "        print(f.read())"
   ]
  },
  {
   "cell_type": "markdown",
   "metadata": {},
   "source": [
    "##### Sixth model:"
   ]
  },
  {
   "cell_type": "code",
   "execution_count": 1524,
   "metadata": {},
   "outputs": [
    {
     "name": "stdout",
     "output_type": "stream",
     "text": [
      "Coefficient: [-0.00324559]\n",
      "Intercept: 0.6339735814916271\n",
      "R^2 score: 0.004886260271825815\n",
      "Validation R^2 score: 0.0072159044603422595\n",
      "\n"
     ]
    }
   ],
   "source": [
    "# use the PCA5 of SS+OE data to regress the regression target linearly\n",
    "if running_index == 5:\n",
    "    train_model(X_train, y_train, X_test, y_test, running_index)\n",
    "    running_index = running_index + 1\n",
    "else:\n",
    "    # print the result from the saved model\n",
    "    with open('./result/regression/model6.txt', 'r') as f:\n",
    "        print(f.read())"
   ]
  },
  {
   "cell_type": "markdown",
   "metadata": {},
   "source": [
    "#### Step 2:"
   ]
  },
  {
   "cell_type": "code",
   "execution_count": 1525,
   "metadata": {},
   "outputs": [
    {
     "name": "stdout",
     "output_type": "stream",
     "text": [
      "Coefficient: [ 0.00046876  0.00054505  0.03858791  0.003116   -0.00312154 -0.00358015]\n",
      "Intercept: 0.6340903973461227\n",
      "R^2 score: 0.30375283065767555\n",
      "Validation R^2 score: 0.342559269170723\n",
      "\n"
     ]
    }
   ],
   "source": [
    "# use all used data to regress the regression target linearly\n",
    "if running_index == 6:\n",
    "    train_model(X_train, y_train, X_test, y_test, running_index)\n",
    "    running_index = running_index + 1\n",
    "else:\n",
    "    # print the result from the saved model\n",
    "    with open('./result/regression/model7.txt', 'r') as f:\n",
    "        print(f.read())"
   ]
  },
  {
   "cell_type": "markdown",
   "metadata": {},
   "source": [
    "#### MSE for all model:"
   ]
  },
  {
   "cell_type": "code",
   "execution_count": 1526,
   "metadata": {},
   "outputs": [
    {
     "name": "stdout",
     "output_type": "stream",
     "text": [
      "MSE for model 1 : 0.004840345917165619\n",
      "MSE for model 2 : 0.004838125108535304\n",
      "MSE for model 3 : 0.003290378620238816\n",
      "MSE for model 4 : 0.004833447223204402\n",
      "MSE for model 5 : 0.004836515062288304\n",
      "MSE for model 6 : 0.004829312737366504\n",
      "MSE for model 7 : 0.012916754159267995\n"
     ]
    }
   ],
   "source": [
    "# compute all MSE for all models and save it \n",
    "for i in range(7):\n",
    "    mse_pred(i)"
   ]
  },
  {
   "cell_type": "markdown",
   "metadata": {},
   "source": [
    "#### Repeating Q12, Q13 using a categorical feature:"
   ]
  },
  {
   "cell_type": "code",
   "execution_count": 1527,
   "metadata": {},
   "outputs": [
    {
     "name": "stdout",
     "output_type": "stream",
     "text": [
      "Coefficient: [0.00063889]\n",
      "Intercept: 0.6305448043768958\n",
      "R^2 score: 0.002696133285668423\n",
      "Validation R^2 score: 0.00626279509076233\n",
      "MSE: 0.004833949055816101\n",
      "\n"
     ]
    }
   ],
   "source": [
    "# use a categorical feature to regress the regression target linearly\n",
    "if running_index == 7:    \n",
    "    using_index = 1\n",
    "\n",
    "    X_train_c, X_test_c, y_train_c, y_test_c = train_test_split(imputer.fit_transform(train_c_sp), train_labels['regression target'], test_size=0.2, random_state=4211)\n",
    "\n",
    "    x = X_train_c[:,using_index]\n",
    "    x = x.reshape(-1, 1)\n",
    "    y = y_train_c.values\n",
    "\n",
    "    lm_8 = regressor.fit(x, y)\n",
    "\n",
    "    print(\"Coefficient:\", regressor.coef_)\n",
    "    print(\"Intercept:\", regressor.intercept_)\n",
    "    print(\"R^2 score:\", regressor.score(x, y))\n",
    "\n",
    "    X_test_c= X_test_c[:,using_index].reshape(-1, 1)\n",
    "    y_pred_c = lm_8.predict(X_test_c)\n",
    "    y_test_c = y_test_c.values\n",
    "\n",
    "    print(\"Validation R^2 score:\", r2_score(y_test_c, y_pred_c))\n",
    "\n",
    "    mse = np.mean((y_pred_c - y_test_c) ** 2)\n",
    "    print(\"MSE for model\", running_index+1, \":\", mse)\n",
    "\n",
    "    if not os.path.exists('./result/regression'):\n",
    "        os.makedirs('./result/regression')\n",
    "    with open('./result/regression/model8.txt', 'w') as f:\n",
    "        f.write(\"Coefficient: \" + str(regressor.coef_) + \"\\n\")\n",
    "        f.write(\"Intercept: \" + str(regressor.intercept_) + \"\\n\")\n",
    "        f.write(\"R^2 score: \" + str(regressor.score(x, y)) + \"\\n\")\n",
    "        f.write(\"Validation R^2 score: \" + str(r2_score(y_test_c, y_pred_c)) + \"\\n\")\n",
    "        f.write(\"MSE: \" + str(mse) + \"\\n\")\n",
    "    with open('./result/regression/model8.pkl', 'wb') as f:\n",
    "        pickle.dump(lm_8, f)\n",
    "\n",
    "    running_index = running_index + 1\n",
    "else:\n",
    "    # print the result from the saved model\n",
    "    with open('./result/regression/model8.txt', 'r') as f:\n",
    "        print(f.read())\n"
   ]
  },
  {
   "cell_type": "markdown",
   "metadata": {},
   "source": [
    "### Feedforward Neural Networks"
   ]
  },
  {
   "cell_type": "code",
   "execution_count": 1528,
   "metadata": {},
   "outputs": [
    {
     "name": "stdout",
     "output_type": "stream",
     "text": [
      "Training times: [7.28536319732666, 2.2363338470458984, 1.5893759727478027]\n",
      "R2 scores: [0.07566221131869899, 0.05976183532068835, -0.0009274553901152949]\n",
      "mean time: 3.7037, std time: 2.5464\n",
      "Mean R2: 0.0448, Std R2: 0.0330\n",
      "\n",
      "Training times: [3.06771183013916, 4.452918529510498, 7.400193929672241]\n",
      "R2 scores: [0.29031946711144063, 0.26985210373855373, 0.2442679645702278]\n",
      "mean time: 4.9736, std time: 1.8066\n",
      "Mean R2: 0.2681, Std R2: 0.0188\n",
      "\n",
      "Training times: [4.6168975830078125, 3.6620090007781982, 5.120839595794678]\n",
      "R2 scores: [0.3584881169999147, 0.2543176589773687, 0.20716199934317614]\n",
      "mean time: 4.4666, std time: 0.6050\n",
      "Mean R2: 0.2733, Std R2: 0.0632\n",
      "\n",
      "Training times: [4.370507717132568, 4.132230758666992, 3.895559310913086]\n",
      "R2 scores: [0.35522869532931545, 0.3046760344044568, 0.3942890220581381]\n",
      "mean time: 4.1328, std time: 0.1939\n",
      "Mean R2: 0.3514, Std R2: 0.0367\n",
      "\n"
     ]
    }
   ],
   "source": [
    "hidden_units = [1, 8, 32, 128]\n",
    "\n",
    "mean_r2_all = []\n",
    "\n",
    "np.random.seed(random_seed)\n",
    "random.seed(random_seed)\n",
    "\n",
    "if running_index == 8:\n",
    "\n",
    "    results = {}\n",
    "\n",
    "    for h in hidden_units:\n",
    "\n",
    "        training_times = []\n",
    "        r2_scores = []\n",
    "        \n",
    "        for _ in range(repeats_index): \n",
    "\n",
    "            random_state = random.randint(5000, 6000)\n",
    "\n",
    "            start_time = time.time()\n",
    "            model = MLPRegressor(hidden_layer_sizes=(h, h, h), early_stopping=True, max_iter=800, random_state=random_state)\n",
    "            model.fit(X_train[:, [0, 1, 3, 4, 5, 9]], y_train)\n",
    "            training_time = time.time() - start_time\n",
    "            training_times.append(training_time)\n",
    "            \n",
    "            y_pred = model.predict(X_test[:, [0, 1, 3, 4, 5, 9]])\n",
    "            score = r2_score(y_test, y_pred)\n",
    "            r2_scores.append(score)\n",
    "        \n",
    "\n",
    "        mean_time = np.mean(training_times)\n",
    "        std_time = np.std(training_times)\n",
    "        mean_r2 = np.mean(r2_scores)\n",
    "        std_r2 = np.std(r2_scores)\n",
    "\n",
    "        mean_r2_all.append(mean_r2)\n",
    "        \n",
    "        results[h] = {\n",
    "            'training_times': training_times,\n",
    "            'r2_scores': r2_scores,\n",
    "            'mean_r2': mean_r2,\n",
    "            'std_r2': std_r2,\n",
    "        }\n",
    "        \n",
    "        print(f\"Hidden units: {h}\")\n",
    "        print(f\"Training times: {training_times}\")\n",
    "        print(f\"R2 scores: {r2_scores}\")\n",
    "        print(f\"mean time: {mean_time:.4f}, std time: {std_time:.4f}\")\n",
    "        print(f\"Mean R2: {mean_r2:.4f}, Std R2: {std_r2:.4f}\\n\")\n",
    "        \n",
    "        if not os.path.exists('./result/regression'):\n",
    "            os.makedirs('./result/regression')\n",
    "        \n",
    "        with open(f'./result/regression/model9_H{h}.txt', 'w') as f:\n",
    "            f.write(f\"Training times: {training_times}\\n\")\n",
    "            f.write(f\"R2 scores: {r2_scores}\\n\")\n",
    "            f.write(f\"mean time: {mean_time:.4f}, std time: {std_time:.4f}\\n\")\n",
    "            f.write(f\"Mean R2: {mean_r2:.4f}, Std R2: {std_r2:.4f}\\n\")\n",
    "        \n",
    "        with open(f'./result/regression/model9_H{h}.pkl', 'wb') as f:\n",
    "            pickle.dump(model, f)\n",
    "\n",
    "else:\n",
    "    for h in hidden_units:\n",
    "        with open(f'./result/regression/model9_H{h}.txt', 'r') as f:\n",
    "            print(f.read())\n",
    "\n",
    "\n"
   ]
  },
  {
   "cell_type": "code",
   "execution_count": 1529,
   "metadata": {},
   "outputs": [
    {
     "data": {
      "image/png": "[encoded data removed]",
      "text/plain": [
       "<IPython.core.display.Image object>"
      ]
     },
     "metadata": {},
     "output_type": "display_data"
    }
   ],
   "source": [
    "if running_index == 8:\n",
    "    plt.figure(figsize=(10, 6))\n",
    "    plt.plot(hidden_units, mean_r2_all, marker='o', linestyle='-', color='b')\n",
    "    plt.title('R2 Score vs. Number of Hidden Units')\n",
    "    plt.xlabel('Number of Hidden Units (H)')\n",
    "    plt.ylabel('R2 Score on Validation Set')\n",
    "    plt.grid(True)\n",
    "    plt.xticks(hidden_units)\n",
    "    plt.savefig('./pic/R2_Score_vs_Hidden_Units.png')\n",
    "    plt.show()\n",
    "\n",
    "    running_index = running_index + 1\n",
    "\n",
    "else:\n",
    "    image_path = './pic/R2_Score_vs_Hidden_Units.png' \n",
    "    display(Image(filename=image_path))\n",
    "\n",
    "\n"
   ]
  },
  {
   "cell_type": "markdown",
   "metadata": {},
   "source": [
    "## Part 4: Classification"
   ]
  },
  {
   "cell_type": "code",
   "execution_count": 1530,
   "metadata": {},
   "outputs": [],
   "source": [
    "np.random.seed(random_seed)\n",
    "random.seed(random_seed)\n",
    "X_train_LR, X_test_LR, y_train_LR, y_test_LR = train_test_split(train_fe, train_labels['classification target'], test_size=0.2, random_state=random_seed)"
   ]
  },
  {
   "cell_type": "markdown",
   "metadata": {},
   "source": [
    "### Logistic Regression:"
   ]
  },
  {
   "cell_type": "markdown",
   "metadata": {},
   "source": [
    "#### Training Function for All Logistic Regression Model:"
   ]
  },
  {
   "cell_type": "code",
   "execution_count": 1531,
   "metadata": {},
   "outputs": [],
   "source": [
    "def train_model_classification(X_train, y_train, X_test, y_test, n, lr_para = lr_para, trail = \"\", random_seed = random_seed):\n",
    "    x = X_train\n",
    "    y = y_train.values \n",
    "\n",
    "    regressor_c = SGDClassifier(**lr_para, random_state=random_seed)\n",
    "\n",
    "    \n",
    "    start_time = time.time()\n",
    "\n",
    "    lrm = regressor_c.fit(x, y)\n",
    "\n",
    "    training_time = time.time() - start_time\n",
    "\n",
    "#    print(\"Training time:\", training_time)\n",
    "\n",
    "#    for name in lr_para:\n",
    "#        print(name + ':', lr_para[name])\n",
    "\n",
    "    training_accuracy = lrm.score(x, y)\n",
    "#    print(\"Training accuracy:\", lrm.score(x, y))\n",
    "\n",
    "    y_pred = lrm.predict(X_test)\n",
    "    y_v = y_test.values\n",
    "\n",
    "    test_accuracy = np.mean(y_pred == y_v)\n",
    "#    print(\"Testing accuracy:\", np.mean(y_pred == y_v))\n",
    "\n",
    "    f1 = f1_score(y_v, y_pred, average='weighted')\n",
    "#    print(\"F1 score:\", f1)\n",
    "\n",
    "    if not os.path.exists('./result/classification'):\n",
    "        os.makedirs('./result/classification')\n",
    "\n",
    "#    with open(f'./result/classification/model{n+1}{trail}.txt', 'w') as f:\n",
    "#        f.write(\"Training time: \" + str(training_time) + '\\n')\n",
    "#        f.write(\"Learning rate: \" + str(lr_para['learning_rate']) + '\\n')\n",
    "#        f.write(\"Eta0: \" + str(lr_para['eta0']) + '\\n')\n",
    "#        f.write(\"Max iter: \" + str(lr_para['max_iter']) + '\\n')\n",
    "#        f.write(\"Tol: \" + str(lr_para['tol']) + '\\n')\n",
    "#        f.write(\"Training accuracy: \" + str(lrm.score(x, y)) + '\\n')\n",
    "#        f.write(\"Testing accuracy: \" + str(np.mean(y_pred == y_v)) + '\\n')\n",
    "#        f.write(\"F1 score: \" + str(f1) + '\\n')\n",
    "    \n",
    "    return lrm, training_time, f1, test_accuracy, training_accuracy"
   ]
  },
  {
   "cell_type": "markdown",
   "metadata": {},
   "source": [
    "#### Non-repeat and Reported Model:"
   ]
  },
  {
   "cell_type": "code",
   "execution_count": 1532,
   "metadata": {},
   "outputs": [
    {
     "name": "stdout",
     "output_type": "stream",
     "text": [
      "learning_rate: constant\n",
      "eta0: 0.02\n",
      "max_iter: 1000\n",
      "tol: 0.001\n",
      "Average Training Time: 0.0 (±0.0)\n",
      "Average F1 Score: 0.822635474587186 (±0.009804266536937478)\n",
      "Average Testing Accuracy: 0.8258003766478343 (±0.011319035103739447)\n",
      "Average Training Accuracy: 0.7919463087248322 (±0.013792645796641339)\n",
      "\n"
     ]
    },
    {
     "name": "stdout",
     "output_type": "stream",
     "text": [
      "learning_rate: constant\n",
      "eta0: 0.01\n",
      "max_iter: 1000\n",
      "tol: 0.001\n",
      "Average Training Time: 0.01377717653910319 (±0.0026284800105153758)\n",
      "Average F1 Score: 0.8498166482196053 (±0.0014496011152904385)\n",
      "Average Testing Accuracy: 0.8549905838041432 (±0.0013316511886752446)\n",
      "Average Training Accuracy: 0.82114682679854 (±0.0024015163139492765)\n",
      "\n",
      "learning_rate: constant\n",
      "eta0: 0.02\n",
      "max_iter: 1000\n",
      "tol: 0.01\n",
      "Average Training Time: 0.0 (±0.0)\n",
      "Average F1 Score: 0.7987004645359935 (±0.026712507614609846)\n",
      "Average Testing Accuracy: 0.8022598870056498 (±0.027988444345954523)\n",
      "Average Training Accuracy: 0.7620393265041798 (±0.036076200362029825)\n",
      "\n",
      "learning_rate: constant\n",
      "eta0: 0.01\n",
      "max_iter: 1000\n",
      "tol: 0.01\n",
      "Average Training Time: 0.00286253293355306 (±0.002464629943178998)\n",
      "Average F1 Score: 0.8228004364767753 (±0.006146004397053691)\n",
      "Average Testing Accuracy: 0.8262711864406779 (±0.006102392371382144)\n",
      "Average Training Accuracy: 0.7866478276227481 (±0.018519155080417148)\n",
      "\n",
      "learning_rate: optimal\n",
      "eta0: 0.02\n",
      "max_iter: 1000\n",
      "tol: 0.001\n",
      "Average Training Time: 0.0327902634938558 (±0.0021816386987302074)\n",
      "Average F1 Score: 0.8254091338580096 (±0.007781627697117878)\n",
      "Average Testing Accuracy: 0.8300376647834274 (±0.006351571357453884)\n",
      "Average Training Accuracy: 0.7981867420228422 (±0.0077084127179243315)\n",
      "\n",
      "learning_rate: optimal\n",
      "eta0: 0.01\n",
      "max_iter: 1000\n",
      "tol: 0.001\n",
      "Average Training Time: 0.028642018636067707 (±0.009583859269361023)\n",
      "Average F1 Score: 0.8254091338580096 (±0.007781627697117878)\n",
      "Average Testing Accuracy: 0.8300376647834274 (±0.006351571357453884)\n",
      "Average Training Accuracy: 0.7981867420228422 (±0.0077084127179243315)\n",
      "\n",
      "learning_rate: optimal\n",
      "eta0: 0.02\n",
      "max_iter: 1000\n",
      "tol: 0.01\n",
      "Average Training Time: 0.032646894454956055 (±0.0015476781515105435)\n",
      "Average F1 Score: 0.813330656865463 (±0.009652995847574133)\n",
      "Average Testing Accuracy: 0.8173258003766479 (±0.011666206867574268)\n",
      "Average Training Accuracy: 0.7872365477452018 (±0.012546232195900139)\n",
      "\n",
      "learning_rate: optimal\n",
      "eta0: 0.01\n",
      "max_iter: 1000\n",
      "tol: 0.01\n",
      "Average Training Time: 0.026218573252360027 (±0.0074997966110745135)\n",
      "Average F1 Score: 0.813330656865463 (±0.009652995847574133)\n",
      "Average Testing Accuracy: 0.8173258003766479 (±0.011666206867574268)\n",
      "Average Training Accuracy: 0.7872365477452018 (±0.012546232195900139)\n",
      "\n"
     ]
    },
    {
     "data": {
      "image/png": "[encoded data removed]",
      "text/plain": [
       "<Figure size 800x600 with 1 Axes>"
      ]
     },
     "metadata": {},
     "output_type": "display_data"
    }
   ],
   "source": [
    "eta0_list = [0.02, 0.01]\n",
    "tol_list = [1e-3, 1e-2]\n",
    "learning_rate_list = ['constant', 'optimal']\n",
    "\n",
    "# Plot the ROC curve calculated on the validation set with the last model\n",
    "if running_index == 9:\n",
    "\n",
    "    for n in range(len(learning_rate_list)):\n",
    "        for k in range(len(tol_list)):\n",
    "            for j in range(len(eta0_list)):\n",
    "                \n",
    "                lr_para_test = {\n",
    "                    'learning_rate':learning_rate_list[n], \n",
    "                    'eta0':eta0_list[j], \n",
    "                    'max_iter':1000, \n",
    "                    'tol':tol_list[k]\n",
    "                    }\n",
    "\n",
    "                training_times = []\n",
    "                f1_scores = []\n",
    "                test_accuracies = []\n",
    "                training_accuracies = []\n",
    "\n",
    "                for i in range(3):\n",
    "                    model, training_time, f1, test_accuracy, training_accuracy = train_model_classification(\n",
    "                        X_train_LR, y_train_LR, X_test_LR, y_test_LR, running_index, lr_para_test, f\"_set{j}_trial_{i+1}\", i+random_seed)\n",
    "\n",
    "                    training_times.append(training_time)\n",
    "                    f1_scores.append(f1)\n",
    "                    test_accuracies.append(test_accuracy)\n",
    "                    training_accuracies.append(training_accuracy)\n",
    "\n",
    "                for name in lr_para_test:\n",
    "                    print(name + ':', lr_para_test[name])\n",
    "\n",
    "                avg_training_time = np.mean(training_times)\n",
    "                std_training_time = np.std(training_times)\n",
    "\n",
    "                avg_f1_score = np.mean(f1_scores)\n",
    "                std_f1_score = np.std(f1_scores)\n",
    "\n",
    "                avg_test_accuracy = np.mean(test_accuracies)\n",
    "                std_test_accuracy = np.std(test_accuracies)\n",
    "\n",
    "                avg_training_accuracy = np.mean(training_accuracies)\n",
    "                std_training_accuracy = np.std(training_accuracies)\n",
    "\n",
    "                print(f\"Average Training Time: {avg_training_time} (±{std_training_time})\")\n",
    "                print(f\"Average F1 Score: {avg_f1_score} (±{std_f1_score})\")\n",
    "                print(f\"Average Testing Accuracy: {avg_test_accuracy} (±{std_test_accuracy})\")\n",
    "                print(f\"Average Training Accuracy: {avg_training_accuracy} (±{std_training_accuracy})\")\n",
    "                print()\n",
    "\n",
    "                if j == len(eta0_list) - 1 and k == len(tol_list) - 1 and n == len(learning_rate_list) - 1:\n",
    "                    y_score = model.decision_function(X_test_LR)\n",
    "\n",
    "                    fpr, tpr, _ = roc_curve(y_test_LR, y_score, pos_label='success')\n",
    "                    roc_auc = auc(fpr, tpr)\n",
    "\n",
    "                    plt.figure(figsize=(8, 6))\n",
    "                    plt.plot(fpr, tpr, color='darkorange', lw=2, label='ROC curve (area = %0.2f)' % roc_auc)\n",
    "                    plt.plot([0, 1], [0, 1], color='navy', lw=2, linestyle='--')\n",
    "                    plt.xlim([0.0, 1.0])\n",
    "                    plt.ylim([0.0, 1.05])\n",
    "                    plt.xlabel('False Positive Rate')\n",
    "                    plt.ylabel('True Positive Rate')\n",
    "                    plt.title('Receiver Operating Characteristic')\n",
    "                    plt.legend(loc=\"lower right\")\n",
    "                    plt.grid(True)\n",
    "                    plt.savefig(f'./pic/ROC_curve_set{4*n + 2*k +j}.png')\n",
    "                    plt.show()     \n",
    "\n",
    "                if not os.path.exists('./result/classification'):\n",
    "                    os.makedirs('./result/classification')\n",
    "\n",
    "                with open(f'./result/classification/model10_set{4*n+2*k+j}.txt', 'w') as f:\n",
    "                    f.write(f\"Learning Rate\" + str(lr_para_test['learning_rate']) + '\\n')\n",
    "                    f.write(f\"Eta0: {lr_para_test['eta0']}\\n\")\n",
    "                    f.write(f\"Max Iter: {lr_para_test['max_iter']}\\n\")\n",
    "                    f.write(f\"Tol: {lr_para_test['tol']}\\n\")\n",
    "                    f.write(f\"Average Training Time: {avg_training_time} (±{std_training_time})\\n\")\n",
    "                    f.write(f\"Average F1 Score: {avg_f1_score} (±{std_f1_score})\\n\")\n",
    "                    f.write(f\"Average Testing Accuracy: {avg_test_accuracy} (±{std_test_accuracy})\\n\")\n",
    "                    f.write(f\"Average Training Accuracy: {avg_training_accuracy} (±{std_training_accuracy})\\n\")\n",
    "            \n",
    "    running_index = running_index + 1\n",
    "    \n",
    "else:\n",
    "    for n in range(8):\n",
    "        with open(f'./result/classification/model10_set{n}.txt', 'r') as f:\n",
    "            print(f.read())\n",
    "\n",
    "    image_path = './pic/ROC_curve_set0.png'\n",
    "\n",
    "    display(Image(filename=image_path))"
   ]
  },
  {
   "cell_type": "markdown",
   "metadata": {},
   "source": [
    "#### Different Learning Rate"
   ]
  },
  {
   "cell_type": "code",
   "execution_count": 1533,
   "metadata": {},
   "outputs": [
    {
     "name": "stdout",
     "output_type": "stream",
     "text": [
      "Learning Rate: constant\n",
      "Training Time: 0.0\n",
      "F1 Score: 0.7659580575475979\n",
      "Testing Accuracy: 0.7740112994350282\n",
      "Training Accuracy: 0.7237725185446838\n",
      "\n",
      "Learning Rate: constant\n",
      "Training Time: 0.010510683059692383\n",
      "F1 Score: 0.7997900801428992\n",
      "Testing Accuracy: 0.806497175141243\n",
      "Training Accuracy: 0.7594489579653833\n",
      "\n",
      "Learning Rate: constant\n",
      "Training Time: 0.0\n",
      "F1 Score: 0.7821879756936488\n",
      "Testing Accuracy: 0.788135593220339\n",
      "Training Accuracy: 0.7545037089367714\n",
      "\n",
      "Learning Rate: constant\n",
      "Training Time: 0.0\n",
      "F1 Score: 0.8164100529410732\n",
      "Testing Accuracy: 0.8177966101694916\n",
      "Training Accuracy: 0.7788767220063582\n",
      "\n",
      "Learning Rate: constant\n",
      "Training Time: 0.0\n",
      "F1 Score: 0.8478727374059388\n",
      "Testing Accuracy: 0.8531073446327684\n",
      "Training Accuracy: 0.8202048746026139\n",
      "\n"
     ]
    }
   ],
   "source": [
    "eta0_list = [0.05, 0.04, 0.03, 0.02, 0.01]\n",
    "# Plot the ROC curve calculated on the validation set with the last model\n",
    "if running_index == 10:\n",
    "\n",
    "    for j in range(len(eta0_list)):\n",
    "\n",
    "        eta0 = eta0_list[j]\n",
    "        lr_para_test = {\n",
    "            'learning_rate':'constant', \n",
    "            'eta0':eta0, \n",
    "            'max_iter':1000, \n",
    "            'tol':1e-3\n",
    "            }\n",
    "\n",
    "        model, training_time, f1, test_accuracy, training_accuracy = train_model_classification(\n",
    "                X_train_LR, y_train_LR, X_test_LR, y_test_LR, running_index, lr_para_test, f\"_set{j}_trial_{i+1}\", random_seed)\n",
    "\n",
    "        print(f\"Learning Rate: {lr_para_test['learning_rate']}\")\n",
    "        print(f\"Training Time: {training_time}\")\n",
    "        print(f\"F1 Score: {f1}\")\n",
    "        print(f\"Testing Accuracy: {test_accuracy}\")\n",
    "        print(f\"Training Accuracy: {training_accuracy}\")\n",
    "        print()\n",
    "\n",
    "        if not os.path.exists('./result/classification'):\n",
    "            os.makedirs('./result/classification')\n",
    "\n",
    "        with open(f'./result/classification/model{running_index+1}_lr{eta0}.txt', 'w') as f:\n",
    "            f.write(f\"Learning Rate\" + str(lr_para_test['learning_rate']) + '\\n')\n",
    "            f.write(f\"Eta0: {lr_para_test['eta0']}\\n\")\n",
    "            f.write(f\"Max Iter: {lr_para_test['max_iter']}\\n\")\n",
    "            f.write(f\"Tol: {lr_para_test['tol']}\\n\")\n",
    "            f.write(f\"Training Time: {training_time}\\n\")\n",
    "            f.write(f\"F1 Score: {f1}\\n\")\n",
    "            f.write(f\"Testing Accuracy: {test_accuracy}\\n\")\n",
    "            f.write(f\"Training Accuracy: {training_accuracy}\\n\")\n",
    "\n",
    "else:\n",
    "    for j in range(len(eta0_list)):\n",
    "        with open(f'./result/classification/model{running_index+1}_lr{eta0_list[j]}.txt', 'r') as f:\n",
    "            print(f.read())"
   ]
  }
 ],
 "metadata": {
  "kernelspec": {
   "display_name": "comp4211",
   "language": "python",
   "name": "python3"
  },
  "language_info": {
   "codemirror_mode": {
    "name": "ipython",
    "version": 3
   },
   "file_extension": ".py",
   "mimetype": "text/x-python",
   "name": "python",
   "nbconvert_exporter": "python",
   "pygments_lexer": "ipython3",
   "version": "3.8.18"
  }
 },
 "nbformat": 4,
 "nbformat_minor": 2
}
