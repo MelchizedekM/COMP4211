{
 "cells": [
  {
   "cell_type": "markdown",
   "metadata": {},
   "source": [
    "## Load the necessary libariary and data"
   ]
  },
  {
   "cell_type": "code",
   "execution_count": 681,
   "metadata": {},
   "outputs": [],
   "source": [
    "import pandas as pd\n",
    "import numpy as np\n",
    "import matplotlib.pyplot as plt\n",
    "import os\n",
    "import warnings\n",
    "import scipy.stats as stats\n",
    "import seaborn as sns\n",
    "import pickle\n",
    "import time\n",
    "\n",
    "from IPython.display import Image\n",
    "from sklearn.ensemble import IsolationForest\n",
    "from sklearn.feature_selection import VarianceThreshold, SelectKBest\n",
    "from sklearn.impute import SimpleImputer\n",
    "from sklearn.decomposition import PCA\n",
    "from sklearn.preprocessing import StandardScaler, MinMaxScaler, RobustScaler, OneHotEncoder, OrdinalEncoder\n",
    "from sklearn.linear_model import LinearRegression\n",
    "from sklearn.model_selection import train_test_split\n",
    "from sklearn.neural_network import MLPRegressor\n",
    "from sklearn.metrics import r2_score\n",
    "from IPython.display import Image\n",
    "\n",
    "warnings.filterwarnings('ignore', category=FutureWarning)\n",
    "\n",
    "train = pd.read_csv('./data/train.csv')\n",
    "train_labels = train[['regression target', 'classification target']]\n",
    "train = train.drop(['regression target', 'classification target'], axis=1)\n",
    "test = pd.read_csv('./data/test.csv')"
   ]
  },
  {
   "cell_type": "markdown",
   "metadata": {},
   "source": [
    "#### Tuning Variables:"
   ]
  },
  {
   "cell_type": "code",
   "execution_count": 682,
   "metadata": {},
   "outputs": [],
   "source": [
    "running_index = 6 # -1 for tuning and testing, please RESET to -1 after running\n",
    "\n",
    "n_index = 0\n",
    "c_index = 0\n",
    "f_index = 0\n",
    "fe_index = 0\n",
    "n_pca = 15\n",
    "\n",
    "if running_index == -1:\n",
    "    n_index = 0\n",
    "    c_index = 2\n",
    "    f_index = 0\n",
    "    fe_index = 1\n",
    "    n_pca = 5\n",
    "\n",
    "if running_index in [0, 1, 2, 3, 4, 5, 6, 8]:\n",
    "    n_index = 1\n",
    "    c_index = 2\n",
    "    fe_index = 1\n",
    "\n",
    "elif running_index == 7:\n",
    "    c_index = 2\n"
   ]
  },
  {
   "cell_type": "markdown",
   "metadata": {},
   "source": [
    "## Part 2:  Data Preprocessing Techniques"
   ]
  },
  {
   "cell_type": "markdown",
   "metadata": {},
   "source": [
    "### [Q7] Handling Missing Values: "
   ]
  },
  {
   "cell_type": "code",
   "execution_count": 683,
   "metadata": {},
   "outputs": [],
   "source": [
    "imputer = SimpleImputer(strategy='mean')\n",
    "\n",
    "numeric_data = train.select_dtypes(include=[np.number])\n",
    "numeric_data_imputed = imputer.fit_transform(numeric_data)\n",
    "\n",
    "train[numeric_data.columns] = numeric_data_imputed"
   ]
  },
  {
   "cell_type": "markdown",
   "metadata": {},
   "source": [
    "### [Q8] Normalization and Standardization:"
   ]
  },
  {
   "cell_type": "code",
   "execution_count": 684,
   "metadata": {},
   "outputs": [
    {
     "name": "stdout",
     "output_type": "stream",
     "text": [
      "Original: \n",
      "0    65.00\n",
      "1    65.00\n",
      "2    59.50\n",
      "3    66.55\n",
      "4    71.00\n",
      "5    70.00\n",
      "6    57.50\n",
      "7    65.50\n",
      "8    70.00\n",
      "9    80.00\n",
      "Name: C6, dtype: float64\n",
      "Standard Scaler: \n",
      "0   -0.200135\n",
      "1   -0.200135\n",
      "2   -1.031074\n",
      "3    0.034039\n",
      "4    0.706344\n",
      "5    0.555264\n",
      "6   -1.333234\n",
      "7   -0.124595\n",
      "8    0.555264\n",
      "9    2.066063\n",
      "Name: C6, dtype: float64\n",
      "MinMax Scaler: \n",
      "0    0.368421\n",
      "1    0.368421\n",
      "2    0.252632\n",
      "3    0.401053\n",
      "4    0.494737\n",
      "5    0.473684\n",
      "6    0.210526\n",
      "7    0.378947\n",
      "8    0.473684\n",
      "9    0.684211\n",
      "Name: C6, dtype: float64\n",
      "Robust Scaler: \n",
      "0   -0.206667\n",
      "1   -0.206667\n",
      "2   -0.940000\n",
      "3    0.000000\n",
      "4    0.593333\n",
      "5    0.460000\n",
      "6   -1.206667\n",
      "7   -0.140000\n",
      "8    0.460000\n",
      "9    1.793333\n",
      "Name: C6, dtype: float64\n"
     ]
    }
   ],
   "source": [
    "scaler_SS = StandardScaler()\n",
    "scaler_MM = MinMaxScaler()\n",
    "scaler_RS = RobustScaler()\n",
    "\n",
    "train_SS = train.copy()\n",
    "train_MM = train.copy()\n",
    "train_RS = train.copy()\n",
    "\n",
    "train_SS[numeric_data.columns] = scaler_SS.fit_transform(numeric_data_imputed)\n",
    "train_MM[numeric_data.columns] = scaler_MM.fit_transform(numeric_data_imputed)\n",
    "train_RS[numeric_data.columns] = scaler_RS.fit_transform(numeric_data_imputed)\n",
    "\n",
    "first_numeric_column_index = 0\n",
    "for i in range(len(train.columns)):\n",
    "    column_name = train.columns[i]\n",
    "    if train[column_name].dtype != 'object':\n",
    "        first_numeric_column_index = i\n",
    "        break\n",
    "\n",
    "print('Original: ')\n",
    "print(train.iloc[:, first_numeric_column_index].head(10))\n",
    "print('Standard Scaler: ')\n",
    "print(train_SS.iloc[:, first_numeric_column_index].head(10))\n",
    "print('MinMax Scaler: ')\n",
    "print(train_MM.iloc[:, first_numeric_column_index].head(10))\n",
    "print('Robust Scaler: ')\n",
    "print(train_RS.iloc[:, first_numeric_column_index].head(10))"
   ]
  },
  {
   "cell_type": "markdown",
   "metadata": {},
   "source": [
    "### [Q9] Encoding Categorical Variables:"
   ]
  },
  {
   "cell_type": "code",
   "execution_count": 685,
   "metadata": {},
   "outputs": [
    {
     "name": "stdout",
     "output_type": "stream",
     "text": [
      "Original: \n",
      "0    divorced\n",
      "1      single\n",
      "2      single\n",
      "3     married\n",
      "4      single\n",
      "5      single\n",
      "6      single\n",
      "7      single\n",
      "8      single\n",
      "9      single\n",
      "Name: C0, dtype: object\n",
      "OneHotEncoder: \n",
      "   C0_divorced  C0_facto union  C0_legally separated  C0_married  C0_single  \\\n",
      "0          1.0             0.0                   0.0         0.0        0.0   \n",
      "1          0.0             0.0                   0.0         0.0        1.0   \n",
      "2          0.0             0.0                   0.0         0.0        1.0   \n",
      "3          0.0             0.0                   0.0         1.0        0.0   \n",
      "4          0.0             0.0                   0.0         0.0        1.0   \n",
      "5          0.0             0.0                   0.0         0.0        1.0   \n",
      "6          0.0             0.0                   0.0         0.0        1.0   \n",
      "7          0.0             0.0                   0.0         0.0        1.0   \n",
      "8          0.0             0.0                   0.0         0.0        1.0   \n",
      "9          0.0             0.0                   0.0         0.0        1.0   \n",
      "\n",
      "   C0_widower  C0_nan  \n",
      "0         0.0     0.0  \n",
      "1         0.0     0.0  \n",
      "2         0.0     0.0  \n",
      "3         0.0     0.0  \n",
      "4         0.0     0.0  \n",
      "5         0.0     0.0  \n",
      "6         0.0     0.0  \n",
      "7         0.0     0.0  \n",
      "8         0.0     0.0  \n",
      "9         0.0     0.0  \n",
      "OrdinalEncoder: \n",
      "0    0.0\n",
      "1    4.0\n",
      "2    4.0\n",
      "3    3.0\n",
      "4    4.0\n",
      "5    4.0\n",
      "6    4.0\n",
      "7    4.0\n",
      "8    4.0\n",
      "9    4.0\n",
      "Name: C0, dtype: float64\n"
     ]
    }
   ],
   "source": [
    "# using OneHotEncoder and OrdinalEncoder to encode the categorical data\n",
    "\n",
    "encoder_OHE = OneHotEncoder(sparse=False, handle_unknown='ignore')\n",
    "encoder_OE = OrdinalEncoder()\n",
    "\n",
    "categorical_data = train[train.columns.difference(numeric_data.columns)]\n",
    "\n",
    "categorical_data_encoded_OHE = pd.DataFrame()\n",
    "\n",
    "for column in categorical_data.columns:\n",
    "    encoded_column = encoder_OHE.fit_transform(categorical_data[[column]])\n",
    "    column_names = [f\"{column}_{category}\" for category in encoder_OHE.categories_[0]]\n",
    "    encoded_column = pd.DataFrame(encoded_column, columns=column_names)\n",
    "    categorical_data_encoded_OHE = pd.concat([categorical_data_encoded_OHE, encoded_column], axis=1)\n",
    "    \n",
    "categorical_data_encoded_OE = pd.DataFrame(encoder_OE.fit_transform(categorical_data), columns=categorical_data.columns)\n",
    "\n",
    "print('Original: ')\n",
    "print(categorical_data.iloc[:10, 0])\n",
    "\n",
    "print('OneHotEncoder: ')\n",
    "print(categorical_data_encoded_OHE.iloc[:10, 0:7])\n",
    "\n",
    "print('OrdinalEncoder: ')\n",
    "print(categorical_data_encoded_OE.iloc[:10, 0])"
   ]
  },
  {
   "cell_type": "markdown",
   "metadata": {},
   "source": [
    "### [Q10] Feature Selection:"
   ]
  },
  {
   "cell_type": "code",
   "execution_count": 686,
   "metadata": {},
   "outputs": [],
   "source": [
    "train_final = pd.DataFrame()\n",
    "\n",
    "if n_index == 0:\n",
    "    train_n = train.select_dtypes(include=[np.number])\n",
    "elif n_index == 1:\n",
    "    train_n = train_SS.select_dtypes(include=[np.number])\n",
    "elif n_index == 2:\n",
    "    train_n = train_MM.select_dtypes(include=[np.number])\n",
    "else:\n",
    "    train_n = train_RS.select_dtypes(include=[np.number])\n",
    "\n",
    "if c_index == 0:\n",
    "    train_c = categorical_data\n",
    "elif c_index == 1:\n",
    "    train_c = categorical_data_encoded_OHE\n",
    "else:\n",
    "    train_c = categorical_data_encoded_OE\n",
    "\n",
    "train_final = pd.concat([train_n, train_c], axis=1)\n",
    "\n",
    "# print(train_final.head(10))\n",
    "\n",
    "# using VarianceThreshold or SelectKBest to select the features\n",
    "selector_VT = VarianceThreshold(threshold=0.1)\n",
    "selector_SKB = SelectKBest(k=15)\n",
    "\n",
    "if f_index == 0:\n",
    "    train_f = train_final\n",
    "elif f_index == 1:\n",
    "    train_f = selector_VT.fit_transform(train_final)\n",
    "elif f_index == 2:\n",
    "    train_f = imputer.fit_transform(train_final)\n",
    "    train_f = selector_SKB.fit_transform(train_f, train_labels['regression target']) \n",
    "else:\n",
    "    train_f = imputer.fit_transform(train_final)\n",
    "    train_f = selector_SKB.fit_transform(train_f, train_labels['classification target'])\n",
    "\n"
   ]
  },
  {
   "cell_type": "markdown",
   "metadata": {},
   "source": [
    "### [Q11] Feature Engineering: "
   ]
  },
  {
   "cell_type": "code",
   "execution_count": 687,
   "metadata": {},
   "outputs": [
    {
     "data": {
      "image/png": "[encoded data removed]",
      "text/plain": [
       "<Figure size 800x500 with 1 Axes>"
      ]
     },
     "metadata": {},
     "output_type": "display_data"
    }
   ],
   "source": [
    "# using PCA, UMAP to reduce the dimensionality of the data\n",
    "pca = PCA(n_components=n_pca)\n",
    "\n",
    "\n",
    "if fe_index == 0:\n",
    "    train_fe = train_f\n",
    "elif fe_index == 1:\n",
    "    train_fe = imputer.fit_transform(train_f)\n",
    "    train_fe = pca.fit_transform(train_fe)\n",
    "    plt.figure(figsize=(8, 5))\n",
    "    plt.plot(np.cumsum(pca.explained_variance_ratio_))\n",
    "    plt.xlabel('Number of components')\n",
    "    plt.ylabel('Cumulative explained variance')\n",
    "    plt.title('Explained variance ratio as a function of the number of components')\n",
    "    plt.grid(True)\n",
    "    plt.savefig('./pic/PCA.png')\n",
    "    plt.show()\n",
    "else:\n",
    "    train_fe = umap.fit_transform(train_f)"
   ]
  },
  {
   "cell_type": "markdown",
   "metadata": {},
   "source": [
    "## Part 3: Regression"
   ]
  },
  {
   "cell_type": "code",
   "execution_count": 688,
   "metadata": {},
   "outputs": [],
   "source": [
    "np.random.seed(4211)\n",
    "regressor = LinearRegression()\n",
    "X_train, X_test, y_train, y_test = train_test_split(train_fe, train_labels['regression target'], test_size=0.2, random_state=4211)"
   ]
  },
  {
   "cell_type": "markdown",
   "metadata": {},
   "source": [
    "### Linear Regerssion"
   ]
  },
  {
   "cell_type": "markdown",
   "metadata": {},
   "source": [
    "#### Step 1:"
   ]
  },
  {
   "cell_type": "markdown",
   "metadata": {},
   "source": [
    "##### Training Function for All Linear Model:"
   ]
  },
  {
   "cell_type": "code",
   "execution_count": 689,
   "metadata": {},
   "outputs": [],
   "source": [
    "def train_model(X_train, y_train, X_test, y_test, n):\n",
    "    index_using = [0,1,9,5,3,4]\n",
    "    if n <= 5 and n >= 0:\n",
    "        index = index_using[n]\n",
    "        x = X_train[:,index].reshape(-1, 1)\n",
    "        x_v = X_test[:,index].reshape(-1, 1)\n",
    "    elif n == 6:\n",
    "        index = index_using\n",
    "        x = X_train[:,index]\n",
    "        x_v = X_test[:,index]\n",
    "    else:\n",
    "        return None\n",
    "    \n",
    "    y = y_train.values \n",
    "\n",
    "    \n",
    "    lm = regressor.fit(x, y)\n",
    "\n",
    "    print(\"Coefficient:\", lm.coef_)\n",
    "    print(\"Intercept:\", lm.intercept_)\n",
    "    print(\"R^2 score:\", lm.score(x, y))\n",
    "\n",
    "    # print the validation r2 score\n",
    "    y_pred = lm.predict(x_v)\n",
    "    y_v = y_test.values\n",
    "    print(\"Validation R^2 score:\", r2_score(y_v, y_pred))\n",
    "\n",
    "    if not os.path.exists('./result/regression'):\n",
    "        os.makedirs('./result/regression')\n",
    "        \n",
    "    with open('./result/regression/model1.txt', 'w') as f:\n",
    "        f.write(\"Coefficient: \" + str(lm.coef_) + '\\n')\n",
    "        f.write(\"Intercept: \" + str(lm.intercept_) + '\\n')\n",
    "        f.write(\"R^2 score: \" + str(lm.score(x, y)) + '\\n')\n",
    "        f.write(\"Validation R^2 score: \" + str(r2_score(y_v, y_pred)) + '\\n')\n",
    "\n",
    "    return lm\n",
    "\n",
    "def mse_pred(i):\n",
    "    if i == 0:\n",
    "        with open('./result/regression/model1.pkl', 'rb') as f:\n",
    "            lm = pickle.load(f)\n",
    "            y_pred = lm.predict(X_test[:,0].reshape(-1, 1))\n",
    "    elif i == 1:\n",
    "        with open('./result/regression/model2.pkl', 'rb') as f:\n",
    "            lm = pickle.load(f)\n",
    "            y_pred = lm.predict(X_test[:,1].reshape(-1, 1))\n",
    "    elif i == 2:\n",
    "        with open('./result/regression/model3.pkl', 'rb') as f:\n",
    "            lm = pickle.load(f)\n",
    "            y_pred = lm.predict(X_test[:,9].reshape(-1, 1))\n",
    "    elif i == 3:\n",
    "        with open('./result/regression/model4.pkl', 'rb') as f:\n",
    "            lm = pickle.load(f)\n",
    "            y_pred = lm.predict(X_test[:,5].reshape(-1, 1))\n",
    "    elif i == 4:\n",
    "        with open('./result/regression/model5.pkl', 'rb') as f:\n",
    "            lm = pickle.load(f)\n",
    "            y_pred = lm.predict(X_test[:,3].reshape(-1, 1))\n",
    "    elif i == 5:\n",
    "        with open('./result/regression/model6.pkl', 'rb') as f:\n",
    "            lm = pickle.load(f)\n",
    "            y_pred = lm.predict(X_test[:,4].reshape(-1, 1))\n",
    "    elif i == 6:\n",
    "        with open('./result/regression/model7.pkl', 'rb') as f:\n",
    "            lm = pickle.load(f)\n",
    "            y_pred = lm.predict(X_test[:,[0,1,3,4,5,9]])\n",
    "    if i <= 6 and i >= 0:\n",
    "        mse = np.mean((y_pred - y_test.values) ** 2)\n",
    "        print(\"MSE for model\", i+1, \":\", mse)\n",
    "        with open('./result/regression/mse.txt', 'a') as f:\n",
    "            f.write(\"MSE for model \" + str(i+1) + \": \" + str(mse) + \"\\n\")\n",
    "    \n"
   ]
  },
  {
   "cell_type": "markdown",
   "metadata": {},
   "source": [
    "##### First model:"
   ]
  },
  {
   "cell_type": "code",
   "execution_count": 690,
   "metadata": {},
   "outputs": [
    {
     "name": "stdout",
     "output_type": "stream",
     "text": [
      "Coefficient: [ 0.00046876  0.00054505  0.03858791  0.003116   -0.00312154 -0.00358015]\n",
      "Intercept: 0.6340903973461227\n",
      "R^2 score: 0.30375283065767555\n",
      "Validation R^2 score: 0.342559269170723\n",
      "\n"
     ]
    }
   ],
   "source": [
    "# use the PCA10 of SS+OE data to regress the regression target linearly\n",
    "if running_index == 0:\n",
    "    train_model(X_train, y_train, X_test, y_test, running_index)\n",
    "else:\n",
    "    # print the result from the saved model\n",
    "    with open('./result/regression/model1.txt', 'r') as f:\n",
    "        print(f.read())"
   ]
  },
  {
   "cell_type": "markdown",
   "metadata": {},
   "source": [
    "##### Second model:"
   ]
  },
  {
   "cell_type": "code",
   "execution_count": 691,
   "metadata": {},
   "outputs": [
    {
     "name": "stdout",
     "output_type": "stream",
     "text": [
      "Coefficient: [0.00040033]\n",
      "Intercept: 0.6339274687727884\n",
      "R^2 score: 0.0007037263251143955\n",
      "Validation R^2 score: 0.005404304670441729\n",
      "\n"
     ]
    }
   ],
   "source": [
    "# use the PCA2 of SS+OE data to regress the regression target linearly\n",
    "if running_index == 1:\n",
    "    train_model(X_train, y_train, X_test, y_test, running_index)\n",
    "else:\n",
    "    # print the result from the saved model\n",
    "    with open('./result/regression/model2.txt', 'r') as f:\n",
    "        print(f.read())\n",
    "        "
   ]
  },
  {
   "cell_type": "markdown",
   "metadata": {},
   "source": [
    "##### Third model:"
   ]
  },
  {
   "cell_type": "code",
   "execution_count": 692,
   "metadata": {},
   "outputs": [
    {
     "name": "stdout",
     "output_type": "stream",
     "text": [
      "Coefficient: [0.03836043]\n",
      "Intercept: 0.6341330491162769\n",
      "R^2 score: 0.2805220334276459\n",
      "Validation R^2 score: 0.32358168954322797\n",
      "\n"
     ]
    }
   ],
   "source": [
    "# use the PCA10 of SS+OE data to regress the regression target linearly\n",
    "if running_index == 2:\n",
    "    train_model(X_train, y_train, X_test, y_test, running_index)\n",
    "else:\n",
    "    # print the result from the saved model\n",
    "    with open('./result/regression/model3.txt', 'r') as f:\n",
    "        print(f.read())"
   ]
  },
  {
   "cell_type": "markdown",
   "metadata": {},
   "source": [
    "##### Forth model:"
   ]
  },
  {
   "cell_type": "code",
   "execution_count": 693,
   "metadata": {},
   "outputs": [
    {
     "name": "stdout",
     "output_type": "stream",
     "text": [
      "Coefficient: [0.00285896]\n",
      "Intercept: 0.633911316577684\n",
      "R^2 score: 0.0031871125899599617\n",
      "Validation R^2 score: 0.006365959135546939\n",
      "\n"
     ]
    }
   ],
   "source": [
    "# use the PCA6 of SS+OE data to regress the regression target linearly\n",
    "if running_index == 3:\n",
    "    train_model(X_train, y_train, X_test, y_test, running_index)\n",
    "else:\n",
    "    # print the result from the saved model\n",
    "    with open('./result/regression/model4.txt', 'r') as f:\n",
    "        print(f.read())"
   ]
  },
  {
   "cell_type": "markdown",
   "metadata": {},
   "source": [
    "##### Fifth model:"
   ]
  },
  {
   "cell_type": "code",
   "execution_count": 694,
   "metadata": {},
   "outputs": [
    {
     "name": "stdout",
     "output_type": "stream",
     "text": [
      "Coefficient: [-0.00291074]\n",
      "Intercept: 0.6339912370415771\n",
      "R^2 score: 0.00938766462088203\n",
      "Validation R^2 score: 0.005735289304080737\n",
      "\n"
     ]
    }
   ],
   "source": [
    "# use the PCA4 of SS+OE data to regress the regression target linearly\n",
    "if running_index == 4:\n",
    "    train_model(X_train, y_train, X_test, y_test, running_index)\n",
    "else:\n",
    "    # print the result from the saved model\n",
    "    with open('./result/regression/model5.txt', 'r') as f:\n",
    "        print(f.read())"
   ]
  },
  {
   "cell_type": "markdown",
   "metadata": {},
   "source": [
    "##### Sixth model:"
   ]
  },
  {
   "cell_type": "code",
   "execution_count": 695,
   "metadata": {},
   "outputs": [
    {
     "name": "stdout",
     "output_type": "stream",
     "text": [
      "Coefficient: [-0.00324559]\n",
      "Intercept: 0.6339735814916271\n",
      "R^2 score: 0.004886260271825815\n",
      "Validation R^2 score: 0.0072159044603422595\n",
      "\n"
     ]
    }
   ],
   "source": [
    "# use the PCA5 of SS+OE data to regress the regression target linearly\n",
    "if running_index == 5:\n",
    "    train_model(X_train, y_train, X_test, y_test, running_index)\n",
    "else:\n",
    "    # print the result from the saved model\n",
    "    with open('./result/regression/model6.txt', 'r') as f:\n",
    "        print(f.read())"
   ]
  },
  {
   "cell_type": "markdown",
   "metadata": {},
   "source": [
    "#### Step 2:"
   ]
  },
  {
   "cell_type": "code",
   "execution_count": 696,
   "metadata": {},
   "outputs": [
    {
     "name": "stdout",
     "output_type": "stream",
     "text": [
      "Coefficient: [ 0.00046876  0.00054505  0.03858791  0.003116   -0.00312154 -0.00358015]\n",
      "Intercept: 0.6340903973461227\n",
      "R^2 score: 0.30375283065767555\n",
      "Validation R^2 score: 0.342559269170723\n"
     ]
    }
   ],
   "source": [
    "# use all used data to regress the regression target linearly\n",
    "if running_index == 6:\n",
    "    train_model(X_train, y_train, X_test, y_test, running_index)\n",
    "else:\n",
    "    # print the result from the saved model\n",
    "    with open('./result/regression/model_all.txt', 'r') as f:\n",
    "        print(f.read())"
   ]
  },
  {
   "cell_type": "markdown",
   "metadata": {},
   "source": [
    "#### MSE for all model:"
   ]
  },
  {
   "cell_type": "code",
   "execution_count": 697,
   "metadata": {},
   "outputs": [
    {
     "name": "stdout",
     "output_type": "stream",
     "text": [
      "MSE for model 7 : 0.0031980638184292347\n"
     ]
    }
   ],
   "source": [
    "# compute all MSE for all models and save it \n",
    "mse_pred(running_index)\n"
   ]
  },
  {
   "cell_type": "markdown",
   "metadata": {},
   "source": [
    "#### Repeating Q12, Q13 using a categorical feature:"
   ]
  },
  {
   "cell_type": "code",
   "execution_count": 698,
   "metadata": {},
   "outputs": [
    {
     "name": "stdout",
     "output_type": "stream",
     "text": [
      "Coefficient: [0.00063889]\n",
      "Intercept: 0.6305448043768958\n",
      "R^2 score: 0.002696133285668423\n",
      "Validation R^2 score: 0.00626279509076233\n",
      "MSE: 0.004833949055816101\n",
      "\n"
     ]
    }
   ],
   "source": [
    "# use a categorical feature to regress the regression target linearly\n",
    "if running_index == 7:    \n",
    "    using_index = 1\n",
    "\n",
    "    X_train, X_test, y_train, y_test = train_test_split(imputer.fit_transform(train_c), train_labels['regression target'], test_size=0.2, random_state=4211)\n",
    "\n",
    "    x = X_train[:,using_index]\n",
    "    x = x.reshape(-1, 1)\n",
    "    y = y_train.values\n",
    "\n",
    "    lm_8 = regressor.fit(x, y)\n",
    "\n",
    "    print(\"Coefficient:\", regressor.coef_)\n",
    "    print(\"Intercept:\", regressor.intercept_)\n",
    "    print(\"R^2 score:\", regressor.score(x, y))\n",
    "\n",
    "    X_test = X_test[:,using_index].reshape(-1, 1)\n",
    "    y_pred = lm_8.predict(X_test)\n",
    "    y_test = y_test.values\n",
    "\n",
    "    print(\"Validation R^2 score:\", r2_score(y_test, y_pred))\n",
    "\n",
    "    mse = np.mean((y_pred - y_test) ** 2)\n",
    "    print(\"MSE for model\", running_index+1, \":\", mse)\n",
    "\n",
    "    if not os.path.exists('./result/regression'):\n",
    "        os.makedirs('./result/regression')\n",
    "    with open('./result/regression/model8.txt', 'w') as f:\n",
    "        f.write(\"Coefficient: \" + str(regressor.coef_) + \"\\n\")\n",
    "        f.write(\"Intercept: \" + str(regressor.intercept_) + \"\\n\")\n",
    "        f.write(\"R^2 score: \" + str(regressor.score(x, y)) + \"\\n\")\n",
    "        f.write(\"Validation R^2 score: \" + str(r2_score(y_test, y_pred)) + \"\\n\")\n",
    "        f.write(\"MSE: \" + str(mse) + \"\\n\")\n",
    "    with open('./result/regression/model8.pkl', 'wb') as f:\n",
    "        pickle.dump(lm_8, f)\n",
    "\n",
    "\n",
    "else:\n",
    "    # print the result from the saved model\n",
    "    with open('./result/regression/model8.txt', 'r') as f:\n",
    "        print(f.read())\n"
   ]
  },
  {
   "cell_type": "markdown",
   "metadata": {},
   "source": [
    "### Feedforward Neural Networks"
   ]
  },
  {
   "cell_type": "code",
   "execution_count": 699,
   "metadata": {},
   "outputs": [
    {
     "name": "stdout",
     "output_type": "stream",
     "text": [
      "Training time: 1.02 seconds\n",
      "R2 score on validation set: -0.0002\n",
      "\n",
      "Training time: 5.56 seconds\n",
      "R2 score on validation set: 0.3660\n",
      "\n",
      "Training time: 3.99 seconds\n",
      "R2 score on validation set: 0.3349\n",
      "\n",
      "Training time: 2.67 seconds\n",
      "R2 score on validation set: 0.2882\n",
      "\n"
     ]
    }
   ],
   "source": [
    "hidden_units = [1, 8, 32, 128]\n",
    "\n",
    "if running_index == 8:\n",
    "    training_times = []\n",
    "    r2_scores = []\n",
    "\n",
    "    for h in hidden_units:\n",
    "        start_time = time.time()\n",
    "        model = MLPRegressor(hidden_layer_sizes=(h, h, h), early_stopping=True, random_state=5411,max_iter=500)\n",
    "        model.fit(X_train[:,[0,1,3,4,5,9]], y_train)\n",
    "        training_time = time.time() - start_time\n",
    "        training_times.append(training_time)\n",
    "        \n",
    "        y_pred = model.predict(X_test[:,[0,1,3,4,5,9]])\n",
    "        score = r2_score(y_test, y_pred)\n",
    "        r2_scores.append(score)\n",
    "\n",
    "        print(f\"Training time for H={h}: {training_time:.2f} seconds\")\n",
    "        print(f\"R2 score for H={h} on validation set: {score:.4f}\")\n",
    "\n",
    "        if not os.path.exists('./result/regression'):\n",
    "            os.makedirs('./result/regression')\n",
    "        with open(f'./result/regression/model9_H{h}.txt', 'w') as f:\n",
    "            f.write(f\"Training time: {training_time:.2f} seconds\\n\")\n",
    "            f.write(f\"R2 score on validation set: {score:.4f}\\n\")\n",
    "        with open(f'./result/regression/model9_H{h}.pkl', 'wb') as f:\n",
    "            pickle.dump(model, f)\n",
    "\n",
    "else:\n",
    "    for h in hidden_units:\n",
    "        with open(f'./result/regression/model9_H{h}.txt', 'r') as f:\n",
    "            print(f.read())\n",
    "\n",
    "\n"
   ]
  },
  {
   "cell_type": "code",
   "execution_count": 700,
   "metadata": {},
   "outputs": [
    {
     "data": {
      "image/png": "[encoded data removed]",
      "text/plain": [
       "<IPython.core.display.Image object>"
      ]
     },
     "metadata": {},
     "output_type": "display_data"
    }
   ],
   "source": [
    "if running_index == 8:\n",
    "    plt.figure(figsize=(10, 6))\n",
    "    plt.plot(hidden_units, r2_scores, marker='o', linestyle='-', color='b')\n",
    "    plt.title('R2 Score vs. Number of Hidden Units')\n",
    "    plt.xlabel('Number of Hidden Units (H)')\n",
    "    plt.ylabel('R2 Score on Validation Set')\n",
    "    plt.grid(True)\n",
    "    plt.xticks(hidden_units)\n",
    "    plt.savefig('./pic/R2_Score_vs_Hidden_Units.png')\n",
    "    plt.show()\n",
    "\n",
    "else:\n",
    "    image_path = './pic/R2_Score_vs_Hidden_Units.png' \n",
    "    display(Image(filename=image_path))\n",
    "\n",
    "\n"
   ]
  }
 ],
 "metadata": {
  "kernelspec": {
   "display_name": "comp4211",
   "language": "python",
   "name": "python3"
  },
  "language_info": {
   "codemirror_mode": {
    "name": "ipython",
    "version": 3
   },
   "file_extension": ".py",
   "mimetype": "text/x-python",
   "name": "python",
   "nbconvert_exporter": "python",
   "pygments_lexer": "ipython3",
   "version": "3.8.18"
  }
 },
 "nbformat": 4,
 "nbformat_minor": 2
}
