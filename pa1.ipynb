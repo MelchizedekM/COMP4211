{
 "cells": [
  {
   "cell_type": "markdown",
   "metadata": {},
   "source": [
    "## Load the necessary libariary and data"
   ]
  },
  {
   "cell_type": "code",
   "execution_count": 1067,
   "metadata": {},
   "outputs": [],
   "source": [
    "import pandas as pd\n",
    "import numpy as np\n",
    "import matplotlib.pyplot as plt\n",
    "import os\n",
    "import warnings\n",
    "import scipy.stats as stats\n",
    "import seaborn as sns\n",
    "import pickle\n",
    "\n",
    "from sklearn.ensemble import IsolationForest\n",
    "from sklearn.feature_selection import VarianceThreshold, SelectKBest\n",
    "from sklearn.impute import SimpleImputer\n",
    "from sklearn.decomposition import PCA\n",
    "from sklearn.preprocessing import StandardScaler, MinMaxScaler, RobustScaler, OneHotEncoder, OrdinalEncoder\n",
    "from sklearn.linear_model import LinearRegression\n",
    "from sklearn.model_selection import train_test_split\n",
    "\n",
    "\n",
    "warnings.filterwarnings('ignore', category=FutureWarning)\n",
    "\n",
    "train = pd.read_csv('./data/train.csv')\n",
    "train_labels = train[['regression target', 'classification target']]\n",
    "train = train.drop(['regression target', 'classification target'], axis=1)\n",
    "test = pd.read_csv('./data/test.csv')"
   ]
  },
  {
   "cell_type": "markdown",
   "metadata": {},
   "source": [
    "#### Tuning Variables:"
   ]
  },
  {
   "cell_type": "code",
   "execution_count": 1068,
   "metadata": {},
   "outputs": [],
   "source": [
    "running_index = 6 # -1 for tuning and testing, please RESET to -1 after running\n",
    "\n",
    "n_index = 0\n",
    "c_index = 0\n",
    "f_index = 0\n",
    "fe_index = 0\n",
    "n_pca = 15\n",
    "\n",
    "if running_index == -1:\n",
    "    n_index = 0\n",
    "    c_index = 2\n",
    "    f_index = 0\n",
    "    fe_index = 1\n",
    "    n_pca = 5\n",
    "\n",
    "if running_index == 0:\n",
    "    n_index = 1\n",
    "    c_index = 2\n",
    "    fe_index = 1\n",
    "\n",
    "elif running_index == 1:\n",
    "    n_index = 1\n",
    "    c_index = 2\n",
    "    fe_index = 1\n",
    "\n",
    "elif running_index == 2:\n",
    "    n_index = 1\n",
    "    c_index = 2\n",
    "    fe_index = 1\n",
    "\n",
    "elif running_index == 3:\n",
    "    n_index = 1\n",
    "    c_index = 2\n",
    "    fe_index = 1\n",
    "\n",
    "elif running_index == 4:\n",
    "    n_index = 1\n",
    "    c_index = 2\n",
    "    fe_index = 1\n",
    "\n",
    "elif running_index == 5:\n",
    "    n_index = 1\n",
    "    c_index = 2\n",
    "    fe_index = 1\n",
    "\n",
    "elif running_index == 6:\n",
    "    n_index = 1\n",
    "    c_index = 2\n",
    "    fe_index = 1\n",
    "\n",
    "elif running_index == 7:\n",
    "    c_index = 2\n"
   ]
  },
  {
   "cell_type": "markdown",
   "metadata": {},
   "source": [
    "## Part 2:  Data Preprocessing Techniques"
   ]
  },
  {
   "cell_type": "markdown",
   "metadata": {},
   "source": [
    "### [Q7] Handling Missing Values: "
   ]
  },
  {
   "cell_type": "code",
   "execution_count": 1069,
   "metadata": {},
   "outputs": [],
   "source": [
    "imputer = SimpleImputer(strategy='mean')\n",
    "\n",
    "numeric_data = train.select_dtypes(include=[np.number])\n",
    "numeric_data_imputed = imputer.fit_transform(numeric_data)\n",
    "\n",
    "train[numeric_data.columns] = numeric_data_imputed"
   ]
  },
  {
   "cell_type": "markdown",
   "metadata": {},
   "source": [
    "### [Q8] Normalization and Standardization:"
   ]
  },
  {
   "cell_type": "code",
   "execution_count": 1070,
   "metadata": {},
   "outputs": [
    {
     "name": "stdout",
     "output_type": "stream",
     "text": [
      "Original: \n",
      "0    65.00\n",
      "1    65.00\n",
      "2    59.50\n",
      "3    66.55\n",
      "4    71.00\n",
      "5    70.00\n",
      "6    57.50\n",
      "7    65.50\n",
      "8    70.00\n",
      "9    80.00\n",
      "Name: C6, dtype: float64\n",
      "Standard Scaler: \n",
      "0   -0.200135\n",
      "1   -0.200135\n",
      "2   -1.031074\n",
      "3    0.034039\n",
      "4    0.706344\n",
      "5    0.555264\n",
      "6   -1.333234\n",
      "7   -0.124595\n",
      "8    0.555264\n",
      "9    2.066063\n",
      "Name: C6, dtype: float64\n",
      "MinMax Scaler: \n",
      "0    0.368421\n",
      "1    0.368421\n",
      "2    0.252632\n",
      "3    0.401053\n",
      "4    0.494737\n",
      "5    0.473684\n",
      "6    0.210526\n",
      "7    0.378947\n",
      "8    0.473684\n",
      "9    0.684211\n",
      "Name: C6, dtype: float64\n",
      "Robust Scaler: \n",
      "0   -0.206667\n",
      "1   -0.206667\n",
      "2   -0.940000\n",
      "3    0.000000\n",
      "4    0.593333\n",
      "5    0.460000\n",
      "6   -1.206667\n",
      "7   -0.140000\n",
      "8    0.460000\n",
      "9    1.793333\n",
      "Name: C6, dtype: float64\n"
     ]
    }
   ],
   "source": [
    "scaler_SS = StandardScaler()\n",
    "scaler_MM = MinMaxScaler()\n",
    "scaler_RS = RobustScaler()\n",
    "\n",
    "train_SS = train.copy()\n",
    "train_MM = train.copy()\n",
    "train_RS = train.copy()\n",
    "\n",
    "train_SS[numeric_data.columns] = scaler_SS.fit_transform(numeric_data_imputed)\n",
    "train_MM[numeric_data.columns] = scaler_MM.fit_transform(numeric_data_imputed)\n",
    "train_RS[numeric_data.columns] = scaler_RS.fit_transform(numeric_data_imputed)\n",
    "\n",
    "first_numeric_column_index = 0\n",
    "for i in range(len(train.columns)):\n",
    "    column_name = train.columns[i]\n",
    "    if train[column_name].dtype != 'object':\n",
    "        first_numeric_column_index = i\n",
    "        break\n",
    "\n",
    "print('Original: ')\n",
    "print(train.iloc[:, first_numeric_column_index].head(10))\n",
    "print('Standard Scaler: ')\n",
    "print(train_SS.iloc[:, first_numeric_column_index].head(10))\n",
    "print('MinMax Scaler: ')\n",
    "print(train_MM.iloc[:, first_numeric_column_index].head(10))\n",
    "print('Robust Scaler: ')\n",
    "print(train_RS.iloc[:, first_numeric_column_index].head(10))"
   ]
  },
  {
   "cell_type": "markdown",
   "metadata": {},
   "source": [
    "### [Q9] Encoding Categorical Variables:"
   ]
  },
  {
   "cell_type": "code",
   "execution_count": 1071,
   "metadata": {},
   "outputs": [
    {
     "name": "stdout",
     "output_type": "stream",
     "text": [
      "Original: \n",
      "0    divorced\n",
      "1      single\n",
      "2      single\n",
      "3     married\n",
      "4      single\n",
      "5      single\n",
      "6      single\n",
      "7      single\n",
      "8      single\n",
      "9      single\n",
      "Name: C0, dtype: object\n",
      "OneHotEncoder: \n",
      "   C0_divorced  C0_facto union  C0_legally separated  C0_married  C0_single  \\\n",
      "0          1.0             0.0                   0.0         0.0        0.0   \n",
      "1          0.0             0.0                   0.0         0.0        1.0   \n",
      "2          0.0             0.0                   0.0         0.0        1.0   \n",
      "3          0.0             0.0                   0.0         1.0        0.0   \n",
      "4          0.0             0.0                   0.0         0.0        1.0   \n",
      "5          0.0             0.0                   0.0         0.0        1.0   \n",
      "6          0.0             0.0                   0.0         0.0        1.0   \n",
      "7          0.0             0.0                   0.0         0.0        1.0   \n",
      "8          0.0             0.0                   0.0         0.0        1.0   \n",
      "9          0.0             0.0                   0.0         0.0        1.0   \n",
      "\n",
      "   C0_widower  C0_nan  \n",
      "0         0.0     0.0  \n",
      "1         0.0     0.0  \n",
      "2         0.0     0.0  \n",
      "3         0.0     0.0  \n",
      "4         0.0     0.0  \n",
      "5         0.0     0.0  \n",
      "6         0.0     0.0  \n",
      "7         0.0     0.0  \n",
      "8         0.0     0.0  \n",
      "9         0.0     0.0  \n",
      "OrdinalEncoder: \n",
      "0    0.0\n",
      "1    4.0\n",
      "2    4.0\n",
      "3    3.0\n",
      "4    4.0\n",
      "5    4.0\n",
      "6    4.0\n",
      "7    4.0\n",
      "8    4.0\n",
      "9    4.0\n",
      "Name: C0, dtype: float64\n"
     ]
    }
   ],
   "source": [
    "# using OneHotEncoder and OrdinalEncoder to encode the categorical data\n",
    "\n",
    "encoder_OHE = OneHotEncoder(sparse=False, handle_unknown='ignore')\n",
    "encoder_OE = OrdinalEncoder()\n",
    "\n",
    "categorical_data = train[train.columns.difference(numeric_data.columns)]\n",
    "\n",
    "categorical_data_encoded_OHE = pd.DataFrame()\n",
    "\n",
    "for column in categorical_data.columns:\n",
    "    encoded_column = encoder_OHE.fit_transform(categorical_data[[column]])\n",
    "    column_names = [f\"{column}_{category}\" for category in encoder_OHE.categories_[0]]\n",
    "    encoded_column = pd.DataFrame(encoded_column, columns=column_names)\n",
    "    categorical_data_encoded_OHE = pd.concat([categorical_data_encoded_OHE, encoded_column], axis=1)\n",
    "    \n",
    "categorical_data_encoded_OE = pd.DataFrame(encoder_OE.fit_transform(categorical_data), columns=categorical_data.columns)\n",
    "\n",
    "print('Original: ')\n",
    "print(categorical_data.iloc[:10, 0])\n",
    "\n",
    "print('OneHotEncoder: ')\n",
    "print(categorical_data_encoded_OHE.iloc[:10, 0:7])\n",
    "\n",
    "print('OrdinalEncoder: ')\n",
    "print(categorical_data_encoded_OE.iloc[:10, 0])"
   ]
  },
  {
   "cell_type": "markdown",
   "metadata": {},
   "source": [
    "### [Q10] Feature Selection:"
   ]
  },
  {
   "cell_type": "code",
   "execution_count": 1072,
   "metadata": {},
   "outputs": [],
   "source": [
    "train_final = pd.DataFrame()\n",
    "\n",
    "if n_index == 0:\n",
    "    train_n = train.select_dtypes(include=[np.number])\n",
    "elif n_index == 1:\n",
    "    train_n = train_SS.select_dtypes(include=[np.number])\n",
    "elif n_index == 2:\n",
    "    train_n = train_MM.select_dtypes(include=[np.number])\n",
    "else:\n",
    "    train_n = train_RS.select_dtypes(include=[np.number])\n",
    "\n",
    "if c_index == 0:\n",
    "    train_c = categorical_data\n",
    "elif c_index == 1:\n",
    "    train_c = categorical_data_encoded_OHE\n",
    "else:\n",
    "    train_c = categorical_data_encoded_OE\n",
    "\n",
    "train_final = pd.concat([train_n, train_c], axis=1)\n",
    "\n",
    "# print(train_final.head(10))\n",
    "\n",
    "# using VarianceThreshold or SelectKBest to select the features\n",
    "selector_VT = VarianceThreshold(threshold=0.1)\n",
    "selector_SKB = SelectKBest(k=15)\n",
    "\n",
    "if f_index == 0:\n",
    "    train_f = train_final\n",
    "elif f_index == 1:\n",
    "    train_f = selector_VT.fit_transform(train_final)\n",
    "elif f_index == 2:\n",
    "    train_f = imputer.fit_transform(train_final)\n",
    "    train_f = selector_SKB.fit_transform(train_f, train_labels['regression target']) \n",
    "else:\n",
    "    train_f = imputer.fit_transform(train_final)\n",
    "    train_f = selector_SKB.fit_transform(train_f, train_labels['classification target'])\n",
    "\n"
   ]
  },
  {
   "cell_type": "markdown",
   "metadata": {},
   "source": [
    "### [Q11] Feature Engineering: "
   ]
  },
  {
   "cell_type": "code",
   "execution_count": 1073,
   "metadata": {},
   "outputs": [
    {
     "data": {
      "image/png": "[encoded data removed]",
      "text/plain": [
       "<Figure size 800x500 with 1 Axes>"
      ]
     },
     "metadata": {},
     "output_type": "display_data"
    }
   ],
   "source": [
    "# using PCA, UMAP to reduce the dimensionality of the data\n",
    "pca = PCA(n_components=n_pca)\n",
    "\n",
    "\n",
    "if fe_index == 0:\n",
    "    train_fe = train_f\n",
    "elif fe_index == 1:\n",
    "    train_fe = imputer.fit_transform(train_f)\n",
    "    train_fe = pca.fit_transform(train_fe)\n",
    "    plt.figure(figsize=(8, 5))\n",
    "    plt.plot(np.cumsum(pca.explained_variance_ratio_))\n",
    "    plt.xlabel('Number of components')\n",
    "    plt.ylabel('Cumulative explained variance')\n",
    "    plt.title('Explained variance ratio as a function of the number of components')\n",
    "    plt.grid(True)\n",
    "    plt.savefig('./pic/PCA.png')\n",
    "    plt.show()\n",
    "else:\n",
    "    train_fe = umap.fit_transform(train_f)"
   ]
  },
  {
   "cell_type": "markdown",
   "metadata": {},
   "source": [
    "## Part 3: Regression"
   ]
  },
  {
   "cell_type": "code",
   "execution_count": 1074,
   "metadata": {},
   "outputs": [],
   "source": [
    "np.random.seed(4211)\n",
    "regressor = LinearRegression()\n",
    "X_train, X_test, y_train, y_test = train_test_split(train_fe, train_labels['regression target'], test_size=0.2, random_state=4211)"
   ]
  },
  {
   "cell_type": "markdown",
   "metadata": {},
   "source": [
    "### Linear Regerssion"
   ]
  },
  {
   "cell_type": "markdown",
   "metadata": {},
   "source": [
    "#### Step 1:"
   ]
  },
  {
   "cell_type": "markdown",
   "metadata": {},
   "source": [
    "##### First model:"
   ]
  },
  {
   "cell_type": "code",
   "execution_count": 1075,
   "metadata": {},
   "outputs": [
    {
     "name": "stdout",
     "output_type": "stream",
     "text": [
      "Coefficient: [0.00052226]\n",
      "Intercept: 0.6338738086954843\n",
      "R^2 score: 0.0018695316290635589\n",
      "\n"
     ]
    }
   ],
   "source": [
    "# use the PCA10 of SS+OE data to regress the regression target linearly\n",
    "if running_index == 0:\n",
    "    x = X_train[:,0].reshape(-1, 1)  \n",
    "    y = y_train.values \n",
    "\n",
    "    \n",
    "    lm_1 = regressor.fit(x, y)\n",
    "\n",
    "    print(\"Coefficient:\", regressor.coef_)\n",
    "    print(\"Intercept:\", regressor.intercept_)\n",
    "    print(\"R^2 score:\", regressor.score(x, y))\n",
    "\n",
    "    if not os.path.exists('./result/regression'):\n",
    "        os.makedirs('./result/regression')\n",
    "    with open('./result/regression/model1.txt', 'w') as f:\n",
    "        f.write(\"Coefficient: \" + str(regressor.coef_) + \"\\n\")\n",
    "        f.write(\"Intercept: \" + str(regressor.intercept_) + \"\\n\")\n",
    "        f.write(\"R^2 score: \" + str(regressor.score(x, y)) + \"\\n\")\n",
    "    with open('./result/regression/model1.pkl', 'wb') as f:\n",
    "        pickle.dump(lm_1, f)\n",
    "else:\n",
    "    # print the result from the saved model\n",
    "    with open('./result/regression/model1.txt', 'r') as f:\n",
    "        print(f.read())"
   ]
  },
  {
   "cell_type": "markdown",
   "metadata": {},
   "source": [
    "##### Second model:"
   ]
  },
  {
   "cell_type": "code",
   "execution_count": 1076,
   "metadata": {},
   "outputs": [
    {
     "name": "stdout",
     "output_type": "stream",
     "text": [
      "Coefficient: [0.00040033]\n",
      "Intercept: 0.6339274687727884\n",
      "R^2 score: 0.0007037263251143955\n",
      "\n"
     ]
    }
   ],
   "source": [
    "# use the PCA10 of SS+OE data to regress the regression target linearly\n",
    "if running_index == 1:\n",
    "    x = X_train[:,1].reshape(-1, 1)  \n",
    "    y = y_train.values \n",
    "\n",
    "    \n",
    "    lm_2 = regressor.fit(x, y)\n",
    "\n",
    "    print(\"Coefficient:\", regressor.coef_)\n",
    "    print(\"Intercept:\", regressor.intercept_)\n",
    "    print(\"R^2 score:\", regressor.score(x, y))\n",
    "\n",
    "    if not os.path.exists('./result/regression'):\n",
    "        os.makedirs('./result/regression')\n",
    "    with open('./result/regression/model2.txt', 'w') as f:\n",
    "        f.write(\"Coefficient: \" + str(regressor.coef_) + \"\\n\")\n",
    "        f.write(\"Intercept: \" + str(regressor.intercept_) + \"\\n\")\n",
    "        f.write(\"R^2 score: \" + str(regressor.score(x, y)) + \"\\n\")\n",
    "    with open('./result/regression/model2.pkl', 'wb') as f:\n",
    "        pickle.dump(lm_2, f)\n",
    "else:\n",
    "    # print the result from the saved model\n",
    "    with open('./result/regression/model2.txt', 'r') as f:\n",
    "        print(f.read())"
   ]
  },
  {
   "cell_type": "markdown",
   "metadata": {},
   "source": [
    "##### Third model:"
   ]
  },
  {
   "cell_type": "code",
   "execution_count": 1077,
   "metadata": {},
   "outputs": [
    {
     "name": "stdout",
     "output_type": "stream",
     "text": [
      "Coefficient: [0.03836043]\n",
      "Intercept: 0.6341330491162769\n",
      "R^2 score: 0.2805220334276459\n",
      "\n"
     ]
    }
   ],
   "source": [
    "# use the PCA10 of SS+OE data to regress the regression target linearly\n",
    "if running_index == 2:\n",
    "    x = X_train[:,9].reshape(-1, 1)  \n",
    "    y = y_train.values \n",
    "\n",
    "    \n",
    "    lm_3 = regressor.fit(x, y)\n",
    "\n",
    "    print(\"Coefficient:\", regressor.coef_)\n",
    "    print(\"Intercept:\", regressor.intercept_)\n",
    "    print(\"R^2 score:\", regressor.score(x, y))\n",
    "\n",
    "    if not os.path.exists('./result/regression'):\n",
    "        os.makedirs('./result/regression')\n",
    "    with open('./result/regression/model3.txt', 'w') as f:\n",
    "        f.write(\"Coefficient: \" + str(regressor.coef_) + \"\\n\")\n",
    "        f.write(\"Intercept: \" + str(regressor.intercept_) + \"\\n\")\n",
    "        f.write(\"R^2 score: \" + str(regressor.score(x, y)) + \"\\n\")\n",
    "    with open('./result/regression/model3.pkl', 'wb') as f:\n",
    "        pickle.dump(lm_3, f)\n",
    "else:\n",
    "    # print the result from the saved model\n",
    "    with open('./result/regression/model3.txt', 'r') as f:\n",
    "        print(f.read())"
   ]
  },
  {
   "cell_type": "markdown",
   "metadata": {},
   "source": [
    "##### Forth model:"
   ]
  },
  {
   "cell_type": "code",
   "execution_count": 1078,
   "metadata": {},
   "outputs": [
    {
     "name": "stdout",
     "output_type": "stream",
     "text": [
      "Coefficient: [0.00167978]\n",
      "Intercept: 0.6339354901642998\n",
      "R^2 score: 0.0032548295987042675\n",
      "\n"
     ]
    }
   ],
   "source": [
    "# use the PCA10 of SS+OE data to regress the regression target linearly\n",
    "if running_index == 3:\n",
    "    x = X_train[:,2].reshape(-1, 1)  \n",
    "    y = y_train.values \n",
    "\n",
    "    \n",
    "    lm_4 = regressor.fit(x, y)\n",
    "\n",
    "    print(\"Coefficient:\", regressor.coef_)\n",
    "    print(\"Intercept:\", regressor.intercept_)\n",
    "    print(\"R^2 score:\", regressor.score(x, y))\n",
    "\n",
    "    if not os.path.exists('./result/regression'):\n",
    "        os.makedirs('./result/regression')\n",
    "    with open('./result/regression/model4.txt', 'w') as f:\n",
    "        f.write(\"Coefficient: \" + str(regressor.coef_) + \"\\n\")\n",
    "        f.write(\"Intercept: \" + str(regressor.intercept_) + \"\\n\")\n",
    "        f.write(\"R^2 score: \" + str(regressor.score(x, y)) + \"\\n\")\n",
    "    with open('./result/regression/model4.pkl', 'wb') as f:\n",
    "        pickle.dump(lm_4, f)\n",
    "else:\n",
    "    # print the result from the saved model\n",
    "    with open('./result/regression/model4.txt', 'r') as f:\n",
    "        print(f.read())"
   ]
  },
  {
   "cell_type": "markdown",
   "metadata": {},
   "source": [
    "##### Fifth model:"
   ]
  },
  {
   "cell_type": "code",
   "execution_count": 1079,
   "metadata": {},
   "outputs": [
    {
     "name": "stdout",
     "output_type": "stream",
     "text": [
      "Coefficient: [-0.00291074]\n",
      "Intercept: 0.6339912370415771\n",
      "R^2 score: 0.00938766462088203\n",
      "\n"
     ]
    }
   ],
   "source": [
    "# use the PCA10 of SS+OE data to regress the regression target linearly\n",
    "if running_index == 4:\n",
    "    x = X_train[:,3].reshape(-1, 1)  \n",
    "    y = y_train.values \n",
    "\n",
    "    \n",
    "    lm_5 = regressor.fit(x, y)\n",
    "\n",
    "    print(\"Coefficient:\", regressor.coef_)\n",
    "    print(\"Intercept:\", regressor.intercept_)\n",
    "    print(\"R^2 score:\", regressor.score(x, y))\n",
    "\n",
    "    if not os.path.exists('./result/regression'):\n",
    "        os.makedirs('./result/regression')\n",
    "    with open('./result/regression/model5.txt', 'w') as f:\n",
    "        f.write(\"Coefficient: \" + str(regressor.coef_) + \"\\n\")\n",
    "        f.write(\"Intercept: \" + str(regressor.intercept_) + \"\\n\")\n",
    "        f.write(\"R^2 score: \" + str(regressor.score(x, y)) + \"\\n\")\n",
    "    with open('./result/regression/model5.pkl', 'wb') as f:\n",
    "        pickle.dump(lm_5, f)\n",
    "else:\n",
    "    # print the result from the saved model\n",
    "    with open('./result/regression/model5.txt', 'r') as f:\n",
    "        print(f.read())"
   ]
  },
  {
   "cell_type": "markdown",
   "metadata": {},
   "source": [
    "##### Sixth model:"
   ]
  },
  {
   "cell_type": "code",
   "execution_count": 1080,
   "metadata": {},
   "outputs": [
    {
     "name": "stdout",
     "output_type": "stream",
     "text": [
      "Coefficient: [-0.00324559]\n",
      "Intercept: 0.6339735814916271\n",
      "R^2 score: 0.004886260271825815\n",
      "\n"
     ]
    }
   ],
   "source": [
    "# use the PCA10 of SS+OE data to regress the regression target linearly\n",
    "if running_index == 5:\n",
    "    x = X_train[:,4].reshape(-1, 1)\n",
    "    y = y_train.values \n",
    "\n",
    "    \n",
    "    lm_6 = regressor.fit(x, y)\n",
    "\n",
    "    print(\"Coefficient:\", regressor.coef_)\n",
    "    print(\"Intercept:\", regressor.intercept_)\n",
    "    print(\"R^2 score:\", regressor.score(x, y))\n",
    "\n",
    "    if not os.path.exists('./result/regression'):\n",
    "        os.makedirs('./result/regression')\n",
    "    with open('./result/regression/model6.txt', 'w') as f:\n",
    "        f.write(\"Coefficient: \" + str(regressor.coef_) + \"\\n\")\n",
    "        f.write(\"Intercept: \" + str(regressor.intercept_) + \"\\n\")\n",
    "        f.write(\"R^2 score: \" + str(regressor.score(x, y)) + \"\\n\")\n",
    "    with open('./result/regression/model6.pkl', 'wb') as f:\n",
    "        pickle.dump(lm_6, f)\n",
    "else:\n",
    "    # print the result from the saved model\n",
    "    with open('./result/regression/model6.txt', 'r') as f:\n",
    "        print(f.read())"
   ]
  },
  {
   "cell_type": "markdown",
   "metadata": {},
   "source": [
    "#### Step 2:"
   ]
  },
  {
   "cell_type": "code",
   "execution_count": 1081,
   "metadata": {},
   "outputs": [
    {
     "name": "stdout",
     "output_type": "stream",
     "text": [
      "Coefficient: [ 0.00045829  0.00053953  0.00159763 -0.00311761 -0.00360145  0.03852836]\n",
      "Intercept: 0.6341195795521617\n",
      "R^2 score: 0.3029115372754613\n"
     ]
    }
   ],
   "source": [
    "# use all used data to regress the regression target linearly\n",
    "if running_index == 6:\n",
    "    x = X_train[:, [0,1,2,3,4,9]]\n",
    "    y = y_train.values \n",
    "\n",
    "    lm_m = regressor.fit(x, y)\n",
    "\n",
    "    print(\"Coefficient:\", regressor.coef_)\n",
    "    print(\"Intercept:\", regressor.intercept_)\n",
    "    print(\"R^2 score:\", regressor.score(x, y))\n",
    "\n",
    "    if not os.path.exists('./result/regression'):\n",
    "        os.makedirs('./result/regression')\n",
    "    with open('./result/regression/model7.txt', 'w') as f:\n",
    "        f.write(\"Coefficient: \" + str(regressor.coef_) + \"\\n\")\n",
    "        f.write(\"Intercept: \" + str(regressor.intercept_) + \"\\n\")\n",
    "        f.write(\"R^2 score: \" + str(regressor.score(x, y)) + \"\\n\")\n",
    "\n",
    "    with open('./result/regression/model7.pkl', 'wb') as f:\n",
    "        pickle.dump(lm_m, f)\n",
    "else:\n",
    "    # print the result from the saved model\n",
    "    with open('./result/regression/model7.txt', 'r') as f:\n",
    "        print(f.read())"
   ]
  },
  {
   "cell_type": "markdown",
   "metadata": {},
   "source": [
    "#### MSE for all model:"
   ]
  },
  {
   "cell_type": "code",
   "execution_count": 1082,
   "metadata": {},
   "outputs": [
    {
     "name": "stdout",
     "output_type": "stream",
     "text": [
      "MSE for model 7 : 0.0032507916762117275\n"
     ]
    }
   ],
   "source": [
    "# compute all MSE for all models and save it \n",
    "i = running_index\n",
    "if i == 0:\n",
    "    with open('./result/regression/model1.pkl', 'rb') as f:\n",
    "        lm = pickle.load(f)\n",
    "        y_pred = lm.predict(X_test[:,2].reshape(-1, 1))\n",
    "elif i == 1:\n",
    "    with open('./result/regression/model2.pkl', 'rb') as f:\n",
    "        lm = pickle.load(f)\n",
    "        y_pred = lm.predict(X_test[:,6].reshape(-1, 1))\n",
    "elif i == 2:\n",
    "    with open('./result/regression/model3.pkl', 'rb') as f:\n",
    "        lm = pickle.load(f)\n",
    "        y_pred = lm.predict(X_test[:,9].reshape(-1, 1))\n",
    "elif i == 3:\n",
    "    with open('./result/regression/model4.pkl', 'rb') as f:\n",
    "        lm = pickle.load(f)\n",
    "        y_pred = lm.predict(X_test[:,6].reshape(-1, 1))\n",
    "elif i == 4:\n",
    "    with open('./result/regression/model5.pkl', 'rb') as f:\n",
    "        lm = pickle.load(f)\n",
    "        y_pred = lm.predict(X_test[:,2].reshape(-1, 1))\n",
    "elif i == 5:\n",
    "    with open('./result/regression/model6.pkl', 'rb') as f:\n",
    "        lm = pickle.load(f)\n",
    "        y_pred = lm.predict(np.dot(X_test, weight.reshape(-1, 1)))\n",
    "elif i == 6:\n",
    "    with open('./result/regression/model7.pkl', 'rb') as f:\n",
    "        lm = pickle.load(f)\n",
    "        y_pred = lm.predict(X_test[:, [0,1,2,3,4,9]])\n",
    "if i <= 6 and i >= 0:\n",
    "    mse = np.mean((y_pred - y_test.values) ** 2)\n",
    "    print(\"MSE for model\", i+1, \":\", mse)\n",
    "    with open('./result/regression/mse.txt', 'a') as f:\n",
    "        f.write(\"MSE for model \" + str(i+1) + \": \" + str(mse) + \"\\n\")\n"
   ]
  },
  {
   "cell_type": "markdown",
   "metadata": {},
   "source": [
    "#### Repeating Q12, Q13 using a categorical feature:"
   ]
  },
  {
   "cell_type": "code",
   "execution_count": 1083,
   "metadata": {},
   "outputs": [
    {
     "name": "stdout",
     "output_type": "stream",
     "text": [
      "Coefficient: [0.00066172]\n",
      "Intercept: 0.6306473281433052\n",
      "R^2 score: 0.0029046875364202585\n",
      "\n"
     ]
    }
   ],
   "source": [
    "# use a categorical feature to regress the regression target linearly\n",
    "if running_index == 7:\n",
    "    X_train, X_test, y_train, y_test = train_test_split(imputer.fit_transform(train_c), train_labels['regression target'], test_size=0.2, random_state=running_index)\n",
    "    \n",
    "    using_index = 1\n",
    "\n",
    "    x = X_train[:,using_index]\n",
    "    x = x.reshape(-1, 1)\n",
    "    y = y_train.values\n",
    "\n",
    "    lm_8 = regressor.fit(x, y)\n",
    "\n",
    "    print(\"Coefficient:\", regressor.coef_)\n",
    "    print(\"Intercept:\", regressor.intercept_)\n",
    "    print(\"R^2 score:\", regressor.score(x, y))\n",
    "\n",
    "    if not os.path.exists('./result/regression'):\n",
    "        os.makedirs('./result/regression')\n",
    "    with open('./result/regression/model8.txt', 'w') as f:\n",
    "        f.write(\"Coefficient: \" + str(regressor.coef_) + \"\\n\")\n",
    "        f.write(\"Intercept: \" + str(regressor.intercept_) + \"\\n\")\n",
    "        f.write(\"R^2 score: \" + str(regressor.score(x, y)) + \"\\n\")\n",
    "    with open('./result/regression/model8.pkl', 'wb') as f:\n",
    "        pickle.dump(lm_8, f)\n",
    "else:\n",
    "    # print the result from the saved model\n",
    "    with open('./result/regression/model8.txt', 'r') as f:\n",
    "        print(f.read())\n",
    "\n",
    "# compute all MSE for all models and save it\n",
    "if running_index == 7:\n",
    "    with open('./result/regression/model8.pkl', 'rb') as f:\n",
    "        lm = pickle.load(f)\n",
    "        y_pred = lm.predict(X_test[:,using_index].reshape(-1, 1))\n",
    "\n",
    "    mse = np.mean((y_pred - y_test.values) ** 2)\n",
    "    print(\"MSE for model\", running_index+1, \":\", mse)\n",
    "    with open('./result/regression/mse.txt', 'a') as f:\n",
    "        f.write(\"MSE for model \" + str(running_index+1) + \": \" + str(mse) + \"\\n\")\n"
   ]
  },
  {
   "cell_type": "markdown",
   "metadata": {},
   "source": [
    "### Feedforward Neural Networks"
   ]
  }
 ],
 "metadata": {
  "kernelspec": {
   "display_name": "comp4211",
   "language": "python",
   "name": "python3"
  },
  "language_info": {
   "codemirror_mode": {
    "name": "ipython",
    "version": 3
   },
   "file_extension": ".py",
   "mimetype": "text/x-python",
   "name": "python",
   "nbconvert_exporter": "python",
   "pygments_lexer": "ipython3",
   "version": "3.8.18"
  }
 },
 "nbformat": 4,
 "nbformat_minor": 2
}
